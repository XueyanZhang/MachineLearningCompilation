{
  "nbformat": 4,
  "nbformat_minor": 0,
  "metadata": {
    "colab": {
      "provenance": [],
      "authorship_tag": "ABX9TyMBbUs1gohX7L3P/xoTVDxW",
      "include_colab_link": true
    },
    "kernelspec": {
      "name": "python3",
      "display_name": "Python 3"
    },
    "language_info": {
      "name": "python"
    }
  },
  "cells": [
    {
      "cell_type": "markdown",
      "metadata": {
        "id": "view-in-github",
        "colab_type": "text"
      },
      "source": [
        "<a href=\"https://colab.research.google.com/github/XueyanZhang/MachineLearningCompilation/blob/master/MLC_End_to_End_Model.ipynb\" target=\"_parent\"><img src=\"https://colab.research.google.com/assets/colab-badge.svg\" alt=\"Open In Colab\"/></a>"
      ]
    },
    {
      "cell_type": "code",
      "execution_count": 1,
      "metadata": {
        "colab": {
          "base_uri": "https://localhost:8080/"
        },
        "id": "FxYHeNJDjrwQ",
        "outputId": "118bdb98-efc4-44cf-df64-0d3afaf6338e"
      },
      "outputs": [
        {
          "output_type": "stream",
          "name": "stdout",
          "text": [
            "Looking in indexes: https://pypi.org/simple, https://us-python.pkg.dev/colab-wheels/public/simple/\n",
            "Looking in links: https://mlc.ai/wheels\n",
            "Collecting mlc-ai-nightly\n",
            "  Downloading https://github.com/mlc-ai/utils/releases/download/v0.9.dev0/mlc_ai_nightly-0.12.dev819%2Bg209d99f09-cp310-cp310-manylinux_2_17_x86_64.manylinux2014_x86_64.whl (52.1 MB)\n",
            "\u001b[2K     \u001b[90m━━━━━━━━━━━━━━━━━━━━━━━━━━━━━━━━━━━━━━━━\u001b[0m \u001b[32m52.1/52.1 MB\u001b[0m \u001b[31m8.5 MB/s\u001b[0m eta \u001b[36m0:00:00\u001b[0m\n",
            "\u001b[?25hRequirement already satisfied: psutil in /usr/local/lib/python3.10/dist-packages (from mlc-ai-nightly) (5.9.5)\n",
            "Requirement already satisfied: attrs in /usr/local/lib/python3.10/dist-packages (from mlc-ai-nightly) (23.1.0)\n",
            "Requirement already satisfied: numpy<=1.23 in /usr/local/lib/python3.10/dist-packages (from mlc-ai-nightly) (1.22.4)\n",
            "Requirement already satisfied: scipy in /usr/local/lib/python3.10/dist-packages (from mlc-ai-nightly) (1.10.1)\n",
            "Requirement already satisfied: decorator in /usr/local/lib/python3.10/dist-packages (from mlc-ai-nightly) (4.4.2)\n",
            "Requirement already satisfied: tornado in /usr/local/lib/python3.10/dist-packages (from mlc-ai-nightly) (6.2)\n",
            "Requirement already satisfied: cloudpickle in /usr/local/lib/python3.10/dist-packages (from mlc-ai-nightly) (2.2.1)\n",
            "Installing collected packages: mlc-ai-nightly\n",
            "Successfully installed mlc-ai-nightly-0.12.dev819+g209d99f09\n"
          ]
        }
      ],
      "source": [
        "!python3 -m  pip install mlc-ai-nightly -f https://mlc.ai/wheels\n",
        "\n",
        "import numpy as np\n",
        "import tvm\n",
        "from tvm import relax\n",
        "from tvm.ir.module import IRModule\n",
        "from tvm.script import relax as R\n",
        "from tvm.script import tir as T\n",
        "from __future__ import annotations "
      ]
    },
    {
      "cell_type": "markdown",
      "source": [
        "# End to End Model\n",
        "\n",
        "To showcase a simple image recognition neural network from end to end.\n",
        "Transform from development form to deployment form.\n"
      ],
      "metadata": {
        "id": "AK100U-2kemd"
      }
    },
    {
      "cell_type": "markdown",
      "source": [
        "## The Model\n",
        "\n",
        "x: Tensor[(1, 784)] -> linear: Tensor[(1, 128)] -> relu -> linear: Tensor[(1, 10)]"
      ],
      "metadata": {
        "id": "B2MmGJIopOy5"
      }
    },
    {
      "cell_type": "code",
      "source": [
        "# load dataset MNIST\n",
        "import torch\n",
        "import torchvision\n",
        "\n",
        "test_data = torchvision.datasets.FashionMNIST(\n",
        "    root=\"data\",\n",
        "    train=False,\n",
        "    download=True,\n",
        "    transform=torchvision.transforms.ToTensor()\n",
        ")\n",
        "test_loader = torch.utils.data.DataLoader(test_data, batch_size=1, shuffle=True)\n",
        "class_names = ['T-shirt/top', 'Trouser', 'Pullover', 'Dress', 'Coat',\n",
        "               'Sandal', 'Shirt', 'Sneaker', 'Bag', 'Ankle boot']\n",
        "\n",
        "img, label = next(iter(test_loader))\n",
        "img = img.reshape(1, 28, 28).numpy()"
      ],
      "metadata": {
        "id": "oj2RassBldMd",
        "outputId": "67b9295d-622c-4775-9e53-415e566784db",
        "colab": {
          "base_uri": "https://localhost:8080/"
        }
      },
      "execution_count": 2,
      "outputs": [
        {
          "output_type": "stream",
          "name": "stdout",
          "text": [
            "Downloading http://fashion-mnist.s3-website.eu-central-1.amazonaws.com/train-images-idx3-ubyte.gz\n",
            "Downloading http://fashion-mnist.s3-website.eu-central-1.amazonaws.com/train-images-idx3-ubyte.gz to data/FashionMNIST/raw/train-images-idx3-ubyte.gz\n"
          ]
        },
        {
          "output_type": "stream",
          "name": "stderr",
          "text": [
            "100%|██████████| 26421880/26421880 [00:01<00:00, 17495630.01it/s]\n"
          ]
        },
        {
          "output_type": "stream",
          "name": "stdout",
          "text": [
            "Extracting data/FashionMNIST/raw/train-images-idx3-ubyte.gz to data/FashionMNIST/raw\n",
            "\n",
            "Downloading http://fashion-mnist.s3-website.eu-central-1.amazonaws.com/train-labels-idx1-ubyte.gz\n",
            "Downloading http://fashion-mnist.s3-website.eu-central-1.amazonaws.com/train-labels-idx1-ubyte.gz to data/FashionMNIST/raw/train-labels-idx1-ubyte.gz\n"
          ]
        },
        {
          "output_type": "stream",
          "name": "stderr",
          "text": [
            "100%|██████████| 29515/29515 [00:00<00:00, 303988.81it/s]\n"
          ]
        },
        {
          "output_type": "stream",
          "name": "stdout",
          "text": [
            "Extracting data/FashionMNIST/raw/train-labels-idx1-ubyte.gz to data/FashionMNIST/raw\n",
            "\n",
            "Downloading http://fashion-mnist.s3-website.eu-central-1.amazonaws.com/t10k-images-idx3-ubyte.gz\n",
            "Downloading http://fashion-mnist.s3-website.eu-central-1.amazonaws.com/t10k-images-idx3-ubyte.gz to data/FashionMNIST/raw/t10k-images-idx3-ubyte.gz\n"
          ]
        },
        {
          "output_type": "stream",
          "name": "stderr",
          "text": [
            "100%|██████████| 4422102/4422102 [00:00<00:00, 5549395.79it/s]\n"
          ]
        },
        {
          "output_type": "stream",
          "name": "stdout",
          "text": [
            "Extracting data/FashionMNIST/raw/t10k-images-idx3-ubyte.gz to data/FashionMNIST/raw\n",
            "\n",
            "Downloading http://fashion-mnist.s3-website.eu-central-1.amazonaws.com/t10k-labels-idx1-ubyte.gz\n",
            "Downloading http://fashion-mnist.s3-website.eu-central-1.amazonaws.com/t10k-labels-idx1-ubyte.gz to data/FashionMNIST/raw/t10k-labels-idx1-ubyte.gz\n"
          ]
        },
        {
          "output_type": "stream",
          "name": "stderr",
          "text": [
            "100%|██████████| 5148/5148 [00:00<00:00, 5935205.33it/s]"
          ]
        },
        {
          "output_type": "stream",
          "name": "stdout",
          "text": [
            "Extracting data/FashionMNIST/raw/t10k-labels-idx1-ubyte.gz to data/FashionMNIST/raw\n",
            "\n"
          ]
        },
        {
          "output_type": "stream",
          "name": "stderr",
          "text": [
            "\n"
          ]
        }
      ]
    },
    {
      "cell_type": "code",
      "source": [
        "# plot an image instance in dataset\n",
        "import matplotlib.pyplot as plt\n",
        "\n",
        "plt.figure()\n",
        "plt.imshow(img[0])\n",
        "plt.colorbar()\n",
        "plt.grid(False)\n",
        "plt.show()\n",
        "print(\"class:\", class_names[label[0]])"
      ],
      "metadata": {
        "colab": {
          "base_uri": "https://localhost:8080/",
          "height": 452
        },
        "id": "FALgCQQAmSXU",
        "outputId": "8888feb6-dfff-4ee7-e1b0-674602ff0cf4"
      },
      "execution_count": 3,
      "outputs": [
        {
          "output_type": "display_data",
          "data": {
            "text/plain": [
              "<Figure size 640x480 with 2 Axes>"
            ],
            "image/png": "[encoded data removed]"
          },
          "metadata": {}
        },
        {
          "output_type": "stream",
          "name": "stdout",
          "text": [
            "class: Pullover\n"
          ]
        }
      ]
    },
    {
      "cell_type": "code",
      "source": [
        "# download model parameters\n",
        "!wget https://github.com/mlc-ai/web-data/raw/main/models/fasionmnist_mlp_params.pkl"
      ],
      "metadata": {
        "colab": {
          "base_uri": "https://localhost:8080/"
        },
        "id": "nkAvw-HSnKug",
        "outputId": "fa5b881a-5db0-41b3-e48f-82997b849b59"
      },
      "execution_count": 4,
      "outputs": [
        {
          "output_type": "stream",
          "name": "stdout",
          "text": [
            "--2023-04-30 01:15:12--  https://github.com/mlc-ai/web-data/raw/main/models/fasionmnist_mlp_params.pkl\n",
            "Resolving github.com (github.com)... 140.82.113.4\n",
            "Connecting to github.com (github.com)|140.82.113.4|:443... connected.\n",
            "HTTP request sent, awaiting response... 302 Found\n",
            "Location: https://raw.githubusercontent.com/mlc-ai/web-data/main/models/fasionmnist_mlp_params.pkl [following]\n",
            "--2023-04-30 01:15:12--  https://raw.githubusercontent.com/mlc-ai/web-data/main/models/fasionmnist_mlp_params.pkl\n",
            "Resolving raw.githubusercontent.com (raw.githubusercontent.com)... 185.199.108.133, 185.199.109.133, 185.199.110.133, ...\n",
            "Connecting to raw.githubusercontent.com (raw.githubusercontent.com)|185.199.108.133|:443... connected.\n",
            "HTTP request sent, awaiting response... 200 OK\n",
            "Length: 407396 (398K) [application/octet-stream]\n",
            "Saving to: ‘fasionmnist_mlp_params.pkl’\n",
            "\n",
            "fasionmnist_mlp_par 100%[===================>] 397.85K  --.-KB/s    in 0.03s   \n",
            "\n",
            "2023-04-30 01:15:12 (11.2 MB/s) - ‘fasionmnist_mlp_params.pkl’ saved [407396/407396]\n",
            "\n"
          ]
        }
      ]
    },
    {
      "cell_type": "markdown",
      "source": [
        "## high level numpy version"
      ],
      "metadata": {
        "id": "v6aciPwLpC20"
      }
    },
    {
      "cell_type": "code",
      "source": [
        "# MLP: Multilayer perceptron\n",
        "def np_mlp(data, w0, b0, w1, b1):\n",
        "    out0 = data @ w0.T + b0\n",
        "    out1 = np.maximum(out0, 0)\n",
        "    out2 = out1 @ w1.T + b1\n",
        "    return out2"
      ],
      "metadata": {
        "id": "NBpDbri7nUee"
      },
      "execution_count": 5,
      "outputs": []
    },
    {
      "cell_type": "code",
      "source": [
        "import pickle as pkl\n",
        "\n",
        "mlp_params = pkl.load(open(\"fasionmnist_mlp_params.pkl\", \"rb\"))\n",
        "res = np_mlp(img.reshape(1, 784),\n",
        "             mlp_params[\"w0\"],\n",
        "             mlp_params[\"b0\"],\n",
        "             mlp_params[\"w1\"],\n",
        "             mlp_params[\"b1\"])\n",
        "\n",
        "print(res) # prediction score\n",
        "pred_kind = res.argmax(axis=1)\n",
        "print(pred_kind)\n",
        "print(\"NP-MLP prediction:\", class_names[pred_kind[0]]) # correct prediction"
      ],
      "metadata": {
        "colab": {
          "base_uri": "https://localhost:8080/"
        },
        "id": "N1hXhqzhn8KM",
        "outputId": "aa62af22-4c71-40d0-ee8e-02e35ca3746b"
      },
      "execution_count": 6,
      "outputs": [
        {
          "output_type": "stream",
          "name": "stdout",
          "text": [
            "[[-22.240875   -5.735175   11.557992  -13.709605  -11.963933  -20.710833\n",
            "  -15.99109   -41.71726    -7.2866316 -36.098503 ]]\n",
            "[2]\n",
            "NP-MLP prediction: Pullover\n"
          ]
        }
      ]
    },
    {
      "cell_type": "markdown",
      "source": [
        "## low level numpy version\n",
        "\n",
        "- use loop instead of array functions \n",
        "- explicitly allocate arrays. (manage preallocated memory access)\n",
        "(aka, destination passing)"
      ],
      "metadata": {
        "id": "PLiTcsE6pWFj"
      }
    },
    {
      "cell_type": "code",
      "source": [
        "f32 = \"float32\"\n",
        "def lnp_linear0(X: np.ndarray, W: np.ndarray, B: np.ndarray, OUT: np.ndarray):\n",
        "    Y = np.empty((1, 128), dtype=f32)\n",
        "    for i in range(1):\n",
        "        for j in range(128):\n",
        "            for k in range(784):\n",
        "                if k == 0:\n",
        "                    Y[i, j] = 0\n",
        "                Y[i, j] = Y[i, j] + X[i, k] * W[j, k] # transpose\n",
        "    for i in range(1):\n",
        "        for j in range(128):\n",
        "            OUT[i, j] = Y[i, j] + B[j]\n",
        "\n",
        "def lnp_relu0(X: np.ndarray, OUT: np.ndarray):\n",
        "    for i in range(1):\n",
        "        for j in range(128):\n",
        "            OUT[i, j] = np.maximum(X[i, j], 0)\n",
        "\n",
        "def lnp_linear1(X: np.ndarray, W: np.ndarray, B: np.ndarray, OUT: np.ndarray):\n",
        "    Y = np.empty((1, 10), dtype=f32)\n",
        "    for i in range(1):\n",
        "        for j in range(10):\n",
        "            for k in range(128):\n",
        "                if k == 0:\n",
        "                    Y[i, j] = 0\n",
        "                Y[i, j] = Y[i, j] + X[i, k] * W[j, k] # transpose\n",
        "    for i in range(1):\n",
        "        for j in range(10):\n",
        "            OUT[i, j] = Y[i, j] + B[j]\n",
        "\n",
        "def lnp_mlp(data, w0, b0, w1, b1):\n",
        "    out0 = np.empty((1, 128), dtype=f32)\n",
        "    lnp_linear0(data, w0, b0, out0)\n",
        "\n",
        "    out1 = np.empty((1, 128), dtype=f32)\n",
        "    lnp_relu0(out0, out1)\n",
        "\n",
        "    out2 = np.empty((1, 10), dtype=f32)\n",
        "    lnp_linear1(out1, w1, b1, out2)\n",
        "    return out2\n",
        "\n",
        "res = lnp_mlp(img.reshape(1, 784),\n",
        "                 mlp_params[\"w0\"],\n",
        "                 mlp_params[\"b0\"],\n",
        "                 mlp_params[\"w1\"],\n",
        "                 mlp_params[\"b1\"])\n",
        "pred_kind = res.argmax(axis=1)\n",
        "print(pred_kind)\n",
        "print(\"NP-MLP prediction:\", class_names[pred_kind[0]]) # correct again "
      ],
      "metadata": {
        "colab": {
          "base_uri": "https://localhost:8080/"
        },
        "id": "gCtcGPl4pYmx",
        "outputId": "5fc6092f-7189-4f0f-82de-70e6a9eecebb"
      },
      "execution_count": 7,
      "outputs": [
        {
          "output_type": "stream",
          "name": "stdout",
          "text": [
            "[2]\n",
            "NP-MLP prediction: Pullover\n"
          ]
        }
      ]
    },
    {
      "cell_type": "markdown",
      "source": [
        "## Tensor IR version\n",
        "\n",
        "- destination passing: commonly used in low level lib designs, so high level framework can handle memory allocation decisions"
      ],
      "metadata": {
        "id": "o4SoOAQPuaX9"
      }
    },
    {
      "cell_type": "code",
      "source": [
        "@tvm.script.ir_module\n",
        "class MyMLP:\n",
        "    @T.prim_func\n",
        "    def linear0(X: T.Buffer[(1, 784), f32],\n",
        "                W: T.Buffer[(128, 784), f32],\n",
        "                B: T.Buffer[(128, ), f32],\n",
        "                Z: T.Buffer[(1, 128), f32]):\n",
        "        Y = T.alloc_buffer((1, 128))\n",
        "        for i, j, k in T.grid(1, 128, 784):\n",
        "            with T.block(\"Y\"):\n",
        "                vi, vj, vk = T.axis.remap(\"SSR\", [i, j, k])\n",
        "                with T.init():\n",
        "                    Y[vi, vj] = T.float32(0)\n",
        "                Y[vi, vj] = Y[vi, vj] + X[vi, vk] * W[vj, vk]\n",
        "        for i, j in T.grid(1, 128):\n",
        "            with T.block(\"Z\"):\n",
        "                vi, vj = T.axis.remap(\"SS\", [i, j])\n",
        "                Z[vi, vj] = Y[vi, vj] + B[vj]\n",
        "\n",
        "    @T.prim_func\n",
        "    def linear1(X: T.Buffer[(1, 128), f32],\n",
        "                W: T.Buffer[(10, 128), f32],\n",
        "                B: T.Buffer[(10, ), f32],\n",
        "                Z: T.Buffer[(1, 10), f32]):\n",
        "        Y = T.alloc_buffer((1, 10))\n",
        "        for i, j, k in T.grid(1, 10, 128):\n",
        "            with T.block(\"Y\"):\n",
        "                vi, vj, vk = T.axis.remap(\"SSR\", [i, j, k])\n",
        "                with T.init():\n",
        "                    Y[vi, vj] = T.float32(0)\n",
        "                Y[vi, vj] = Y[vi, vj] + X[vi, vk] * W[vj, vk]\n",
        "        for i, j in T.grid(1, 10):\n",
        "            with T.block(\"Z\"):\n",
        "                vi, vj = T.axis.remap(\"SS\", [i, j])\n",
        "                Z[vi, vj] = Y[vi, vj] + B[vj]\n",
        "\n",
        "    @T.prim_func\n",
        "    def relu0(x: T.handle, y: T.handle):\n",
        "        n = T.int64()\n",
        "        X = T.match_buffer(x, (1, n))\n",
        "        Y = T.match_buffer(y, (1, n))\n",
        "        for i, j in T.grid(1, n):\n",
        "            with T.block(\"Y\"):\n",
        "                vi, vj = T.axis.remap(\"SS\", [i, j])\n",
        "                Y[vi, vj] = T.max(X[vi, vj], T.float32(0))\n",
        "\n",
        "    @R.function\n",
        "    def main(x: R.Tensor((1, \"m\"), dtype=\"float32\"), \n",
        "             w0: R.Tensor((\"n\", \"m\"), dtype=\"float32\"), \n",
        "             b0: R.Tensor((\"n\",), dtype=\"float32\"), \n",
        "             w1: R.Tensor((\"k\", \"n\"), dtype=\"float32\"), \n",
        "             b1: R.Tensor((\"k\",), dtype=\"float32\")\n",
        "             ) -> R.Tensor((1, \"k\"), dtype=\"float32\"):\n",
        "        with R.dataflow():\n",
        "            lv0 = R.call_dps_packed(\"linear0\", (x, w0, b0), out_sinfo=R.Tensor((1, 128), dtype=\"float32\"))\n",
        "            lv1 = R.call_dps_packed(\"relu0\", (lv0,), out_sinfo=R.Tensor((1, 128), dtype=\"float32\"))\n",
        "            out = R.call_dps_packed(\"linear1\", (lv1, w1, b1), out_sinfo=R.Tensor((1, 10), dtype=\"float32\"))\n",
        "            R.output(out)\n",
        "        return out"
      ],
      "metadata": {
        "colab": {
          "base_uri": "https://localhost:8080/"
        },
        "id": "J6N4N66rC7eu",
        "outputId": "e15ad9b1-e734-4832-c419-91b419d48cec"
      },
      "execution_count": 8,
      "outputs": [
        {
          "output_type": "stream",
          "name": "stderr",
          "text": [
            "<ast>:3: DeprecationWarning: T.Buffer[...] is deprecated, use T.Buffer(...) instead\n",
            "<ast>:4: DeprecationWarning: T.Buffer[...] is deprecated, use T.Buffer(...) instead\n",
            "<ast>:5: DeprecationWarning: T.Buffer[...] is deprecated, use T.Buffer(...) instead\n",
            "<ast>:6: DeprecationWarning: T.Buffer[...] is deprecated, use T.Buffer(...) instead\n",
            "<ast>:20: DeprecationWarning: T.Buffer[...] is deprecated, use T.Buffer(...) instead\n",
            "<ast>:21: DeprecationWarning: T.Buffer[...] is deprecated, use T.Buffer(...) instead\n",
            "<ast>:22: DeprecationWarning: T.Buffer[...] is deprecated, use T.Buffer(...) instead\n",
            "<ast>:23: DeprecationWarning: T.Buffer[...] is deprecated, use T.Buffer(...) instead\n"
          ]
        }
      ]
    },
    {
      "cell_type": "code",
      "source": [
        "# build\n",
        "ex = relax.build(MyMLP, target=\"llvm\")\n",
        "vm = relax.VirtualMachine(ex, tvm.cpu())"
      ],
      "metadata": {
        "id": "HIu5ITk7ArFU"
      },
      "execution_count": 9,
      "outputs": []
    },
    {
      "cell_type": "code",
      "source": [
        "# run\n",
        "data_nd = tvm.nd.array(img.reshape(1, 784))\n",
        "nd_params = {k: tvm.nd.array(v) for k, v in mlp_params.items()}\n",
        "nd_res = vm[\"main\"](data_nd,\n",
        "                    nd_params[\"w0\"],\n",
        "                    nd_params[\"b0\"],\n",
        "                    nd_params[\"w1\"],\n",
        "                    nd_params[\"b1\"])\n",
        "print(nd_res)\n",
        "pred_kind = np.argmax(nd_res.numpy(), axis=1)\n",
        "# Tensor IR version shows the correct result\n",
        "print(\"MyModule Prediction:\", class_names[pred_kind[0]])"
      ],
      "metadata": {
        "colab": {
          "base_uri": "https://localhost:8080/"
        },
        "id": "SWW-TNim8VQq",
        "outputId": "8ebbfc18-d511-4868-815c-6805570e9296"
      },
      "execution_count": 10,
      "outputs": [
        {
          "output_type": "stream",
          "name": "stdout",
          "text": [
            "[[-22.240875  -5.735182  11.557992 -13.709604 -11.963931 -20.710833\n",
            "  -15.991082 -41.71726   -7.286627 -36.098503]]\n",
            "MyModule Prediction: Pullover\n"
          ]
        }
      ]
    },
    {
      "cell_type": "markdown",
      "source": [
        "## Use Existing Libraries\n",
        "\n",
        "Instead of implementing everything on our own, we could integrate existing libraries."
      ],
      "metadata": {
        "id": "jy4AJtyCv21g"
      }
    },
    {
      "cell_type": "code",
      "source": [
        "fp32 = \"float32\"\n",
        "\n",
        "# IR module calling exisiting libraries\n",
        "@tvm.script.ir_module\n",
        "class MyMLPExternalCall:\n",
        "    @R.function\n",
        "    def main(x: R.Tensor((1, \"m\"), fp32),\n",
        "             w0: R.Tensor((\"n\", \"m\"), fp32),\n",
        "             b0: R.Tensor((\"n\",), fp32),\n",
        "             w1: R.Tensor((\"k\", \"n\"), fp32),\n",
        "             b1: R.Tensor((\"k\",), fp32)):\n",
        "        m, n, k = T.int64(), T.int64(), T.int64()\n",
        "        with R.dataflow():\n",
        "            lv0 = R.call_dps_packed(\"env.linear\", (x, w0, b0), R.Tensor((1, n), f32))\n",
        "            lv1 = R.call_dps_packed(\"env.relu\", (lv0, ), R.Tensor((1, n), f32))\n",
        "            out = R.call_dps_packed(\"env.linear\", (lv1, w1, b1), R.Tensor((1, k), f32))\n",
        "            R.output(out)\n",
        "        return out"
      ],
      "metadata": {
        "id": "Zdw-vIglwXp1"
      },
      "execution_count": 16,
      "outputs": []
    },
    {
      "cell_type": "code",
      "source": [
        "# register runtime func (we used above)\n",
        "@tvm.register_func(\"env.linear\", override=True)\n",
        "def torch_linear(x: tvm.nd.NDArray,\n",
        "                 w: tvm.nd.NDArray,\n",
        "                 b: tvm.nd.NDArray,\n",
        "                 out: tvm.nd.NDArray):\n",
        "    # convert tvm.nd.NDArray to torch tensor\n",
        "    x_torch = torch.from_dlpack(x)\n",
        "    w_torch = torch.from_dlpack(w)\n",
        "    b_torch = torch.from_dlpack(b)\n",
        "    out_torch = torch.from_dlpack(out)\n",
        "    # matrix mul\n",
        "    torch.mm(x_torch, w_torch.T, out=out_torch)\n",
        "    # add\n",
        "    torch.add(out_torch, b_torch, out=out_torch)\n",
        "\n",
        "@tvm.register_func(\"env.relu\", override=True)\n",
        "def torch_relu(x: tvm.nd.NDArray,\n",
        "               out: tvm.nd.NDArray):\n",
        "    x_torch = torch.from_dlpack(x)\n",
        "    out_torch = torch.from_dlpack(out)\n",
        "    torch.maximum(x_torch, torch.Tensor([0.0]), out=out_torch)\n",
        "\n",
        "@tvm.register_func(\"env.relu_np\", override=True)\n",
        "def lnumpy_relu(x: tvm.nd.NDArray,\n",
        "                out: tvm.nd.NDArray):\n",
        "    x_np = np.from_dlpack(x)\n",
        "    out_np = np.from_dlpack(out)\n",
        "    np.maximum(x_np, 0, out=out_np)"
      ],
      "metadata": {
        "id": "KJ7uJuIpw8Vw"
      },
      "execution_count": 21,
      "outputs": []
    },
    {
      "cell_type": "markdown",
      "source": [
        "- DLPack: open in memory tensor structure for sharing tensors among frameworks."
      ],
      "metadata": {
        "id": "FY2BkeZ82Pfc"
      }
    },
    {
      "cell_type": "code",
      "source": [
        "# now with registered func above, ready to build and run\n",
        "ex = relax.build(MyMLPExternalCall, target=\"llvm\")\n",
        "vm = relax.VirtualMachine(ex, tvm.cpu())\n",
        "\n",
        "# data_nd = tvm.nd.array(img.reshape(1, 784))\n",
        "# nd_params = {k: tvm.nd.array(v) for k, v in mlp_params.items()}\n",
        "nd_res = vm[\"main\"](data_nd,\n",
        "                    nd_params[\"w0\"],\n",
        "                    nd_params[\"b0\"],\n",
        "                    nd_params[\"w1\"],\n",
        "                    nd_params[\"b1\"])\n",
        "\n",
        "pred_kind = np.argmax(nd_res.numpy(), axis=1)\n",
        "print(\"MyMLPExternalCall Prediction:\", class_names[pred_kind[0]]) # correct result"
      ],
      "metadata": {
        "id": "CROK7_B22Mqe",
        "outputId": "ea0e0b4e-5ca9-40fa-964b-5ead0ed671ea",
        "colab": {
          "base_uri": "https://localhost:8080/"
        }
      },
      "execution_count": 22,
      "outputs": [
        {
          "output_type": "stream",
          "name": "stdout",
          "text": [
            "MyMLPExternalCall Prediction: Pullover\n"
          ]
        }
      ]
    },
    {
      "cell_type": "markdown",
      "source": [
        "We can also mix the use of existing library and TensorIR primitive functions."
      ],
      "metadata": {
        "id": "EBworNhW5NDo"
      }
    }
  ]
}