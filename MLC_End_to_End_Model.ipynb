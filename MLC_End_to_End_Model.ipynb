{
  "nbformat": 4,
  "nbformat_minor": 0,
  "metadata": {
    "colab": {
      "provenance": [],
      "authorship_tag": "ABX9TyMLDbEDPyzIXZphZM8lXMPm",
      "include_colab_link": true
    },
    "kernelspec": {
      "name": "python3",
      "display_name": "Python 3"
    },
    "language_info": {
      "name": "python"
    }
  },
  "cells": [
    {
      "cell_type": "markdown",
      "metadata": {
        "id": "view-in-github",
        "colab_type": "text"
      },
      "source": [
        "<a href=\"https://colab.research.google.com/github/XueyanZhang/MachineLearningCompilation/blob/master/MLC_End_to_End_Model.ipynb\" target=\"_parent\"><img src=\"https://colab.research.google.com/assets/colab-badge.svg\" alt=\"Open In Colab\"/></a>"
      ]
    },
    {
      "cell_type": "code",
      "execution_count": 27,
      "metadata": {
        "colab": {
          "base_uri": "https://localhost:8080/"
        },
        "id": "FxYHeNJDjrwQ",
        "outputId": "6cf206a7-f74d-4ba7-80a0-9b917889eb97"
      },
      "outputs": [
        {
          "output_type": "stream",
          "name": "stdout",
          "text": [
            "Looking in indexes: https://pypi.org/simple, https://us-python.pkg.dev/colab-wheels/public/simple/\n",
            "Looking in links: https://mlc.ai/wheels\n",
            "Requirement already satisfied: mlc-ai-nightly in /usr/local/lib/python3.9/dist-packages (0.12.dev819+g209d99f09)\n",
            "Requirement already satisfied: psutil in /usr/local/lib/python3.9/dist-packages (from mlc-ai-nightly) (5.9.5)\n",
            "Requirement already satisfied: attrs in /usr/local/lib/python3.9/dist-packages (from mlc-ai-nightly) (23.1.0)\n",
            "Requirement already satisfied: cloudpickle in /usr/local/lib/python3.9/dist-packages (from mlc-ai-nightly) (2.2.1)\n",
            "Requirement already satisfied: scipy in /usr/local/lib/python3.9/dist-packages (from mlc-ai-nightly) (1.10.1)\n",
            "Requirement already satisfied: decorator in /usr/local/lib/python3.9/dist-packages (from mlc-ai-nightly) (4.4.2)\n",
            "Requirement already satisfied: numpy<=1.23 in /usr/local/lib/python3.9/dist-packages (from mlc-ai-nightly) (1.22.4)\n",
            "Requirement already satisfied: tornado in /usr/local/lib/python3.9/dist-packages (from mlc-ai-nightly) (6.2)\n"
          ]
        }
      ],
      "source": [
        "!python3 -m  pip install mlc-ai-nightly -f https://mlc.ai/wheels\n",
        "\n",
        "import numpy as np\n",
        "import tvm\n",
        "from tvm import relax\n",
        "from tvm.ir.module import IRModule\n",
        "from tvm.script import relax as R\n",
        "from tvm.script import tir as T\n",
        "from __future__ import annotations "
      ]
    },
    {
      "cell_type": "markdown",
      "source": [
        "# End to End Model\n",
        "\n",
        "To showcase a simple image recognition neural network from end to end.\n",
        "Transform from development form to deployment form.\n"
      ],
      "metadata": {
        "id": "AK100U-2kemd"
      }
    },
    {
      "cell_type": "markdown",
      "source": [
        "## The Model\n",
        "\n",
        "x: Tensor[(1, 784)] -> linear: Tensor[(1, 128)] -> relu -> linear: Tensor[(1, 10)]"
      ],
      "metadata": {
        "id": "B2MmGJIopOy5"
      }
    },
    {
      "cell_type": "code",
      "source": [
        "# load dataset MNIST\n",
        "import torch\n",
        "import torchvision\n",
        "\n",
        "test_data = torchvision.datasets.FashionMNIST(\n",
        "    root=\"data\",\n",
        "    train=False,\n",
        "    download=True,\n",
        "    transform=torchvision.transforms.ToTensor()\n",
        ")\n",
        "test_loader = torch.utils.data.DataLoader(test_data, batch_size=1, shuffle=True)\n",
        "class_names = ['T-shirt/top', 'Trouser', 'Pullover', 'Dress', 'Coat',\n",
        "               'Sandal', 'Shirt', 'Sneaker', 'Bag', 'Ankle boot']\n",
        "\n",
        "img, label = next(iter(test_loader))\n",
        "img = img.reshape(1, 28, 28).numpy()"
      ],
      "metadata": {
        "id": "oj2RassBldMd"
      },
      "execution_count": 28,
      "outputs": []
    },
    {
      "cell_type": "code",
      "source": [
        "# plot an image instance in dataset\n",
        "import matplotlib.pyplot as plt\n",
        "\n",
        "plt.figure()\n",
        "plt.imshow(img[0])\n",
        "plt.colorbar()\n",
        "plt.grid(False)\n",
        "plt.show()\n",
        "print(\"class:\", class_names[label[0]])"
      ],
      "metadata": {
        "colab": {
          "base_uri": "https://localhost:8080/",
          "height": 452
        },
        "id": "FALgCQQAmSXU",
        "outputId": "ba07a749-e47d-41e2-c653-f92bae6b79bd"
      },
      "execution_count": 29,
      "outputs": [
        {
          "output_type": "display_data",
          "data": {
            "text/plain": [
              "<Figure size 640x480 with 2 Axes>"
            ],
            "image/png": "[encoded data removed]"
          },
          "metadata": {}
        },
        {
          "output_type": "stream",
          "name": "stdout",
          "text": [
            "class: Trouser\n"
          ]
        }
      ]
    },
    {
      "cell_type": "code",
      "source": [
        "# download model parameters\n",
        "!wget https://github.com/mlc-ai/web-data/raw/main/models/fasionmnist_mlp_params.pkl"
      ],
      "metadata": {
        "colab": {
          "base_uri": "https://localhost:8080/"
        },
        "id": "nkAvw-HSnKug",
        "outputId": "6f4024ea-a3f4-47e9-f87a-ebd310f7cae2"
      },
      "execution_count": 30,
      "outputs": [
        {
          "output_type": "stream",
          "name": "stdout",
          "text": [
            "--2023-04-24 10:55:35--  https://github.com/mlc-ai/web-data/raw/main/models/fasionmnist_mlp_params.pkl\n",
            "Resolving github.com (github.com)... 192.30.255.113\n",
            "Connecting to github.com (github.com)|192.30.255.113|:443... connected.\n",
            "HTTP request sent, awaiting response... 302 Found\n",
            "Location: https://raw.githubusercontent.com/mlc-ai/web-data/main/models/fasionmnist_mlp_params.pkl [following]\n",
            "--2023-04-24 10:55:35--  https://raw.githubusercontent.com/mlc-ai/web-data/main/models/fasionmnist_mlp_params.pkl\n",
            "Resolving raw.githubusercontent.com (raw.githubusercontent.com)... 185.199.108.133, 185.199.109.133, 185.199.110.133, ...\n",
            "Connecting to raw.githubusercontent.com (raw.githubusercontent.com)|185.199.108.133|:443... connected.\n",
            "HTTP request sent, awaiting response... 200 OK\n",
            "Length: 407396 (398K) [application/octet-stream]\n",
            "Saving to: ‘fasionmnist_mlp_params.pkl.2’\n",
            "\n",
            "fasionmnist_mlp_par 100%[===================>] 397.85K  --.-KB/s    in 0.02s   \n",
            "\n",
            "2023-04-24 10:55:35 (15.8 MB/s) - ‘fasionmnist_mlp_params.pkl.2’ saved [407396/407396]\n",
            "\n"
          ]
        }
      ]
    },
    {
      "cell_type": "markdown",
      "source": [
        "## high level numpy version"
      ],
      "metadata": {
        "id": "v6aciPwLpC20"
      }
    },
    {
      "cell_type": "code",
      "source": [
        "# MLP: Multilayer perceptron\n",
        "def np_mlp(data, w0, b0, w1, b1):\n",
        "    out0 = data @ w0.T + b0\n",
        "    out1 = np.maximum(out0, 0)\n",
        "    out2 = out1 @ w1.T + b1\n",
        "    return out2"
      ],
      "metadata": {
        "id": "NBpDbri7nUee"
      },
      "execution_count": 31,
      "outputs": []
    },
    {
      "cell_type": "code",
      "source": [
        "import pickle as pkl\n",
        "\n",
        "mlp_params = pkl.load(open(\"fasionmnist_mlp_params.pkl\", \"rb\"))\n",
        "res = np_mlp(img.reshape(1, 784),\n",
        "             mlp_params[\"w0\"],\n",
        "             mlp_params[\"b0\"],\n",
        "             mlp_params[\"w1\"],\n",
        "             mlp_params[\"b1\"])\n",
        "\n",
        "print(res) # prediction score\n",
        "pred_kind = res.argmax(axis=1)\n",
        "print(pred_kind)\n",
        "print(\"NP-MLP prediction:\", class_names[pred_kind[0]]) # correct prediction"
      ],
      "metadata": {
        "colab": {
          "base_uri": "https://localhost:8080/"
        },
        "id": "N1hXhqzhn8KM",
        "outputId": "ecb2a1fd-b4e3-43bb-d3c3-d6622b730387"
      },
      "execution_count": 32,
      "outputs": [
        {
          "output_type": "stream",
          "name": "stdout",
          "text": [
            "[[-13.248904  36.973183 -27.34254   -8.963186 -18.175812 -42.798347\n",
            "  -61.153435 -22.648745 -27.82038  -43.523136]]\n",
            "[1]\n",
            "NP-MLP prediction: Trouser\n"
          ]
        }
      ]
    },
    {
      "cell_type": "markdown",
      "source": [
        "## low level numpy version\n",
        "\n",
        "- use loop instead of array functions \n",
        "- explicitly allocate arrays. (manage preallocated memory access)\n",
        "(aka, destination passing)"
      ],
      "metadata": {
        "id": "PLiTcsE6pWFj"
      }
    },
    {
      "cell_type": "code",
      "source": [
        "f32 = \"float32\"\n",
        "def lnp_linear0(X: np.ndarray, W: np.ndarray, B: np.ndarray, OUT: np.ndarray):\n",
        "    Y = np.empty((1, 128), dtype=f32)\n",
        "    for i in range(1):\n",
        "        for j in range(128):\n",
        "            for k in range(784):\n",
        "                if k == 0:\n",
        "                    Y[i, j] = 0\n",
        "                Y[i, j] = Y[i, j] + X[i, k] * W[j, k] # transpose\n",
        "    for i in range(1):\n",
        "        for j in range(128):\n",
        "            OUT[i, j] = Y[i, j] + B[j]\n",
        "\n",
        "def lnp_relu0(X: np.ndarray, OUT: np.ndarray):\n",
        "    for i in range(1):\n",
        "        for j in range(128):\n",
        "            OUT[i, j] = np.maximum(X[i, j], 0)\n",
        "\n",
        "def lnp_linear1(X: np.ndarray, W: np.ndarray, B: np.ndarray, OUT: np.ndarray):\n",
        "    Y = np.empty((1, 10), dtype=f32)\n",
        "    for i in range(1):\n",
        "        for j in range(10):\n",
        "            for k in range(128):\n",
        "                if k == 0:\n",
        "                    Y[i, j] = 0\n",
        "                Y[i, j] = Y[i, j] + X[i, k] * W[j, k] # transpose\n",
        "    for i in range(1):\n",
        "        for j in range(10):\n",
        "            OUT[i, j] = Y[i, j] + B[j]\n",
        "\n",
        "def lnp_mlp(data, w0, b0, w1, b1):\n",
        "    out0 = np.empty((1, 128), dtype=f32)\n",
        "    lnp_linear0(data, w0, b0, out0)\n",
        "\n",
        "    out1 = np.empty((1, 128), dtype=f32)\n",
        "    lnp_relu0(out0, out1)\n",
        "\n",
        "    out2 = np.empty((1, 10), dtype=f32)\n",
        "    lnp_linear1(out1, w1, b1, out2)\n",
        "    return out2\n",
        "\n",
        "res = lnp_mlp(img.reshape(1, 784),\n",
        "                 mlp_params[\"w0\"],\n",
        "                 mlp_params[\"b0\"],\n",
        "                 mlp_params[\"w1\"],\n",
        "                 mlp_params[\"b1\"])\n",
        "pred_kind = res.argmax(axis=1)\n",
        "print(pred_kind)\n",
        "print(\"NP-MLP prediction:\", class_names[pred_kind[0]]) # correct again "
      ],
      "metadata": {
        "colab": {
          "base_uri": "https://localhost:8080/"
        },
        "id": "gCtcGPl4pYmx",
        "outputId": "ee867598-798a-4f08-bae4-d9b86591e007"
      },
      "execution_count": 33,
      "outputs": [
        {
          "output_type": "stream",
          "name": "stdout",
          "text": [
            "[1]\n",
            "NP-MLP prediction: Trouser\n"
          ]
        }
      ]
    },
    {
      "cell_type": "markdown",
      "source": [
        "## Tensor IR version\n",
        "\n",
        "- destination passing: commonly used in low level lib designs, so high level framework can handle memory allocation decisions"
      ],
      "metadata": {
        "id": "o4SoOAQPuaX9"
      }
    },
    {
      "cell_type": "code",
      "source": [
        "@tvm.script.ir_module\n",
        "class MyMLP:\n",
        "    @T.prim_func\n",
        "    def linear0(X: T.Buffer[(1, 784), f32],\n",
        "                W: T.Buffer[(128, 784), f32],\n",
        "                B: T.Buffer[(128, ), f32],\n",
        "                Z: T.Buffer[(1, 128), f32]):\n",
        "        Y = T.alloc_buffer((1, 128))\n",
        "        for i, j, k in T.grid(1, 128, 784):\n",
        "            with T.block(\"Y\"):\n",
        "                vi, vj, vk = T.axis.remap(\"SSR\", [i, j, k])\n",
        "                with T.init():\n",
        "                    Y[vi, vj] = T.float32(0)\n",
        "                Y[vi, vj] = Y[vi, vj] + X[vi, vk] * W[vj, vk]\n",
        "        for i, j in T.grid(1, 128):\n",
        "            with T.block(\"Z\"):\n",
        "                vi, vj = T.axis.remap(\"SS\", [i, j])\n",
        "                Z[vi, vj] = Y[vi, vj] + B[vj]\n",
        "\n",
        "    @T.prim_func\n",
        "    def linear1(X: T.Buffer[(1, 128), f32],\n",
        "                W: T.Buffer[(10, 128), f32],\n",
        "                B: T.Buffer[(10, ), f32],\n",
        "                Z: T.Buffer[(1, 10), f32]):\n",
        "        Y = T.alloc_buffer((1, 10))\n",
        "        for i, j, k in T.grid(1, 10, 128):\n",
        "            with T.block(\"Y\"):\n",
        "                vi, vj, vk = T.axis.remap(\"SSR\", [i, j, k])\n",
        "                with T.init():\n",
        "                    Y[vi, vj] = T.float32(0)\n",
        "                Y[vi, vj] = Y[vi, vj] + X[vi, vk] * W[vj, vk]\n",
        "        for i, j in T.grid(1, 10):\n",
        "            with T.block(\"Z\"):\n",
        "                vi, vj = T.axis.remap(\"SS\", [i, j])\n",
        "                Z[vi, vj] = Y[vi, vj] + B[vj]\n",
        "\n",
        "    @T.prim_func\n",
        "    def relu0(x: T.handle, y: T.handle):\n",
        "        n = T.int64()\n",
        "        X = T.match_buffer(x, (1, n))\n",
        "        Y = T.match_buffer(y, (1, n))\n",
        "        for i, j in T.grid(1, n):\n",
        "            with T.block(\"Y\"):\n",
        "                vi, vj = T.axis.remap(\"SS\", [i, j])\n",
        "                Y[vi, vj] = T.max(X[vi, vj], T.float32(0))\n",
        "\n",
        "    @R.function\n",
        "    def main(x: R.Tensor((1, \"m\"), dtype=\"float32\"), \n",
        "             w0: R.Tensor((\"n\", \"m\"), dtype=\"float32\"), \n",
        "             b0: R.Tensor((\"n\",), dtype=\"float32\"), \n",
        "             w1: R.Tensor((\"k\", \"n\"), dtype=\"float32\"), \n",
        "             b1: R.Tensor((\"k\",), dtype=\"float32\")\n",
        "             ) -> R.Tensor((1, \"k\"), dtype=\"float32\"):\n",
        "        with R.dataflow():\n",
        "            lv0 = R.call_dps_packed(\"linear0\", (x, w0, b0), out_sinfo=R.Tensor((1, 128), dtype=\"float32\"))\n",
        "            lv1 = R.call_dps_packed(\"relu0\", (lv0,), out_sinfo=R.Tensor((1, 128), dtype=\"float32\"))\n",
        "            out = R.call_dps_packed(\"linear1\", (lv1, w1, b1), out_sinfo=R.Tensor((1, 10), dtype=\"float32\"))\n",
        "            R.output(out)\n",
        "        return out"
      ],
      "metadata": {
        "colab": {
          "base_uri": "https://localhost:8080/"
        },
        "id": "J6N4N66rC7eu",
        "outputId": "2b51306c-a86d-4406-e687-01c1e73073e7"
      },
      "execution_count": 83,
      "outputs": [
        {
          "output_type": "stream",
          "name": "stderr",
          "text": [
            "<ast>:3: DeprecationWarning: T.Buffer[...] is deprecated, use T.Buffer(...) instead\n",
            "<ast>:4: DeprecationWarning: T.Buffer[...] is deprecated, use T.Buffer(...) instead\n",
            "<ast>:5: DeprecationWarning: T.Buffer[...] is deprecated, use T.Buffer(...) instead\n",
            "<ast>:6: DeprecationWarning: T.Buffer[...] is deprecated, use T.Buffer(...) instead\n",
            "<ast>:20: DeprecationWarning: T.Buffer[...] is deprecated, use T.Buffer(...) instead\n",
            "<ast>:21: DeprecationWarning: T.Buffer[...] is deprecated, use T.Buffer(...) instead\n",
            "<ast>:22: DeprecationWarning: T.Buffer[...] is deprecated, use T.Buffer(...) instead\n",
            "<ast>:23: DeprecationWarning: T.Buffer[...] is deprecated, use T.Buffer(...) instead\n"
          ]
        }
      ]
    },
    {
      "cell_type": "code",
      "source": [
        "# build\n",
        "ex = relax.build(MyMLP, target=\"llvm\")\n",
        "vm = relax.VirtualMachine(ex, tvm.cpu())"
      ],
      "metadata": {
        "id": "HIu5ITk7ArFU"
      },
      "execution_count": 84,
      "outputs": []
    },
    {
      "cell_type": "code",
      "source": [
        "# run\n",
        "data_nd = tvm.nd.array(img.reshape(1, 784))\n",
        "nd_params = {k: tvm.nd.array(v) for k, v in mlp_params.items()}\n",
        "nd_res = vm[\"main\"](data_nd,\n",
        "                    nd_params[\"w0\"],\n",
        "                    nd_params[\"b0\"],\n",
        "                    nd_params[\"w1\"],\n",
        "                    nd_params[\"b1\"])\n",
        "print(nd_res)\n",
        "pred_kind = np.argmax(nd_res.numpy(), axis=1)\n",
        "print(\"MyModule Prediction:\", class_names[pred_kind[0]])"
      ],
      "metadata": {
        "colab": {
          "base_uri": "https://localhost:8080/"
        },
        "id": "SWW-TNim8VQq",
        "outputId": "e4e1cfc2-2f90-42d9-dd9e-f3d353a9a691"
      },
      "execution_count": 85,
      "outputs": [
        {
          "output_type": "stream",
          "name": "stdout",
          "text": [
            "[[-13.248912  36.97319  -27.342543  -8.963187 -18.17581  -42.798344\n",
            "  -61.153427 -22.648748 -27.820368 -43.523136]]\n",
            "MyModule Prediction: Trouser\n"
          ]
        }
      ]
    }
  ]
}