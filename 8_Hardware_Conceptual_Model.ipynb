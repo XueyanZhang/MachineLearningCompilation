{
  "nbformat": 4,
  "nbformat_minor": 0,
  "metadata": {
    "colab": {
      "provenance": [],
      "authorship_tag": "ABX9TyMjWEIyRL9NhirZuP3C7i1k",
      "include_colab_link": true
    },
    "kernelspec": {
      "name": "python3",
      "display_name": "Python 3"
    },
    "language_info": {
      "name": "python"
    }
  },
  "cells": [
    {
      "cell_type": "markdown",
      "metadata": {
        "id": "view-in-github",
        "colab_type": "text"
      },
      "source": [
        "<a href=\"https://colab.research.google.com/github/XueyanZhang/MachineLearningCompilation/blob/master/8_Hardware_Conceptual_Model.ipynb\" target=\"_parent\"><img src=\"https://colab.research.google.com/assets/colab-badge.svg\" alt=\"Open In Colab\"/></a>"
      ]
    },
    {
      "cell_type": "code",
      "execution_count": 1,
      "metadata": {
        "colab": {
          "base_uri": "https://localhost:8080/"
        },
        "id": "0s5jXQE1pzxA",
        "outputId": "589b67e7-eb47-4dad-9c92-50e1b7e6a7f3"
      },
      "outputs": [
        {
          "output_type": "stream",
          "name": "stdout",
          "text": [
            "Looking in indexes: https://pypi.org/simple, https://us-python.pkg.dev/colab-wheels/public/simple/\n",
            "Looking in links: https://mlc.ai/wheels\n",
            "Collecting mlc-ai-nightly\n",
            "  Downloading https://github.com/mlc-ai/package/releases/download/v0.9.dev0/mlc_ai_nightly-0.12.dev1198-cp310-cp310-manylinux_2_28_x86_64.whl (98.2 MB)\n",
            "\u001b[2K     \u001b[90m━━━━━━━━━━━━━━━━━━━━━━━━━━━━━━━━━━━━━━━━\u001b[0m \u001b[32m98.2/98.2 MB\u001b[0m \u001b[31m7.3 MB/s\u001b[0m eta \u001b[36m0:00:00\u001b[0m\n",
            "\u001b[?25hRequirement already satisfied: attrs in /usr/local/lib/python3.10/dist-packages (from mlc-ai-nightly) (23.1.0)\n",
            "Requirement already satisfied: cloudpickle in /usr/local/lib/python3.10/dist-packages (from mlc-ai-nightly) (2.2.1)\n",
            "Requirement already satisfied: decorator in /usr/local/lib/python3.10/dist-packages (from mlc-ai-nightly) (4.4.2)\n",
            "Requirement already satisfied: ml-dtypes in /usr/local/lib/python3.10/dist-packages (from mlc-ai-nightly) (0.2.0)\n",
            "Requirement already satisfied: numpy in /usr/local/lib/python3.10/dist-packages (from mlc-ai-nightly) (1.22.4)\n",
            "Requirement already satisfied: psutil in /usr/local/lib/python3.10/dist-packages (from mlc-ai-nightly) (5.9.5)\n",
            "Requirement already satisfied: scipy in /usr/local/lib/python3.10/dist-packages (from mlc-ai-nightly) (1.10.1)\n",
            "Requirement already satisfied: tornado in /usr/local/lib/python3.10/dist-packages (from mlc-ai-nightly) (6.3.1)\n",
            "Requirement already satisfied: typing-extensions in /usr/local/lib/python3.10/dist-packages (from mlc-ai-nightly) (4.6.3)\n",
            "Installing collected packages: mlc-ai-nightly\n",
            "Successfully installed mlc-ai-nightly-0.12.dev1198\n"
          ]
        }
      ],
      "source": [
        "!python3 -m  pip install mlc-ai-nightly -f https://mlc.ai/wheels"
      ]
    },
    {
      "cell_type": "code",
      "source": [
        "import numpy as np\n",
        "import tvm\n",
        "from tvm import relax\n",
        "from tvm.ir.module import IRModule\n",
        "from tvm.script import relax as R\n",
        "from tvm.script import tir as T"
      ],
      "metadata": {
        "id": "26erjnGxqG1d"
      },
      "execution_count": 2,
      "outputs": []
    },
    {
      "cell_type": "markdown",
      "source": [
        "# Evolution\n",
        "1. Scalar computing\n",
        "2. Vector computing (more complex program)\n",
        "3. Tensor computing (matrix computations)"
      ],
      "metadata": {
        "id": "otkTYFzMquNz"
      }
    },
    {
      "cell_type": "markdown",
      "source": [
        "## Example of hardware backend\n",
        "\n",
        "mimic possible operations/instructions on hardware:\n",
        "1. fill a region with a value (broadcast a value for initialization)\n",
        "2. matmul + add (madd) (size 16x16)\n",
        "3. data movement (dma) from host (eg, cpu) to device (eg, tpu)"
      ],
      "metadata": {
        "id": "kdWkwX2OrHw4"
      }
    },
    {
      "cell_type": "code",
      "source": [
        "def accel_fill_zero(C, value):\n",
        "    C[:] = value\n",
        "\n",
        "def accel_tmm_add(C, A, B):\n",
        "    C[:] += A @ B.T\n",
        "\n",
        "def accel_dma_copy(reg, dram):\n",
        "    reg[:] = dram[:]\n",
        "\n",
        "def lnumpy_tmm(A: np.ndarray, B: np.ndarray, C: np.ndarray):\n",
        "    # a special accumulator memory\n",
        "    C_accumulator = np.empty((16, 16), dtype=\"float32\")\n",
        "    A_reg = np.empty((16, 16), dtype=\"float32\")\n",
        "    B_reg = np.empty((16, 16), dtype=\"float32\")\n",
        "\n",
        "    for i in range(64):\n",
        "        for j in range(64):\n",
        "            accel_fill_zero(C_accumulator[:,:], 0)\n",
        "            for k in range(64):\n",
        "                accel_dma_copy(A_reg[:], A[i * 16 : i * 16 + 16, k * 16 : k * 16 + 16])\n",
        "                accel_dma_copy(B_reg[:], B[j * 16 : j * 16 + 16, k * 16 : k * 16 + 16])\n",
        "                accel_tmm_add(C_accumulator[:,:], A_reg, B_reg)\n",
        "            accel_dma_copy(C[i * 16 : i * 16 + 16, j * 16 : j * 16 + 16], C_accumulator[:,:])"
      ],
      "metadata": {
        "id": "Cg2xenOdqTDq"
      },
      "execution_count": 7,
      "outputs": []
    },
    {
      "cell_type": "code",
      "source": [
        "# verify result\n",
        "dtype = \"float32\"\n",
        "a_np = np.random.rand(1024, 1024).astype(dtype)\n",
        "b_np = np.random.rand(1024, 1024).astype(dtype)\n",
        "c_tmm = a_np @ b_np.T\n",
        "\n",
        "# build & run\n",
        "c_np = np.empty((1024, 1024), dtype=dtype)\n",
        "lnumpy_tmm(a_np, b_np, c_np)\n",
        "np.testing.assert_allclose(c_np, c_tmm, rtol=1e-5)"
      ],
      "metadata": {
        "id": "uoADRDrot6cl"
      },
      "execution_count": 8,
      "outputs": []
    }
  ]
}