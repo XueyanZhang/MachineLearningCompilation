{
  "nbformat": 4,
  "nbformat_minor": 0,
  "metadata": {
    "colab": {
      "provenance": [],
      "authorship_tag": "ABX9TyNvHpM6dpeEEYKTnBrKw4Lb",
      "include_colab_link": true
    },
    "kernelspec": {
      "name": "python3",
      "display_name": "Python 3"
    },
    "language_info": {
      "name": "python"
    }
  },
  "cells": [
    {
      "cell_type": "markdown",
      "metadata": {
        "id": "view-in-github",
        "colab_type": "text"
      },
      "source": [
        "<a href=\"https://colab.research.google.com/github/XueyanZhang/MachineLearningCompilation/blob/master/MLC_Automatic_Program_Opt.ipynb\" target=\"_parent\"><img src=\"https://colab.research.google.com/assets/colab-badge.svg\" alt=\"Open In Colab\"/></a>"
      ]
    },
    {
      "cell_type": "markdown",
      "source": [
        "# Automatic Program Optimization\n",
        "\n",
        "MLC process can be viewed as transformation among tensor functions.\n",
        "\n",
        "There are many ways to transform.\n",
        "\n",
        "Which transformation is better?"
      ],
      "metadata": {
        "id": "a6tqHHp0IRnH"
      }
    },
    {
      "cell_type": "code",
      "source": [
        "!python3 -m  pip install mlc-ai-nightly -f https://mlc.ai/wheels\n",
        "\n",
        "import numpy as np\n",
        "import tvm\n",
        "from tvm import relax\n",
        "from tvm.ir.module import IRModule\n",
        "from tvm.script import relax as R\n",
        "from tvm.script import tir as T"
      ],
      "metadata": {
        "colab": {
          "base_uri": "https://localhost:8080/"
        },
        "id": "q-Neh6OvIt1-",
        "outputId": "3c6bfb9b-b720-4005-e5a4-7beaaada65c1"
      },
      "execution_count": 1,
      "outputs": [
        {
          "output_type": "stream",
          "name": "stdout",
          "text": [
            "Looking in indexes: https://pypi.org/simple, https://us-python.pkg.dev/colab-wheels/public/simple/\n",
            "Looking in links: https://mlc.ai/wheels\n",
            "Collecting mlc-ai-nightly\n",
            "  Downloading https://github.com/mlc-ai/utils/releases/download/v0.9.dev0/mlc_ai_nightly-0.12.dev871%2Bg838ec67e9-cp310-cp310-manylinux_2_17_x86_64.manylinux2014_x86_64.whl (52.1 MB)\n",
            "\u001b[2K     \u001b[90m━━━━━━━━━━━━━━━━━━━━━━━━━━━━━━━━━━━━━━━━\u001b[0m \u001b[32m52.1/52.1 MB\u001b[0m \u001b[31m12.1 MB/s\u001b[0m eta \u001b[36m0:00:00\u001b[0m\n",
            "\u001b[?25hRequirement already satisfied: decorator in /usr/local/lib/python3.10/dist-packages (from mlc-ai-nightly) (4.4.2)\n",
            "Requirement already satisfied: numpy<=1.23 in /usr/local/lib/python3.10/dist-packages (from mlc-ai-nightly) (1.22.4)\n",
            "Requirement already satisfied: attrs in /usr/local/lib/python3.10/dist-packages (from mlc-ai-nightly) (23.1.0)\n",
            "Requirement already satisfied: scipy in /usr/local/lib/python3.10/dist-packages (from mlc-ai-nightly) (1.10.1)\n",
            "Requirement already satisfied: psutil in /usr/local/lib/python3.10/dist-packages (from mlc-ai-nightly) (5.9.5)\n",
            "Requirement already satisfied: tornado in /usr/local/lib/python3.10/dist-packages (from mlc-ai-nightly) (6.2)\n",
            "Requirement already satisfied: cloudpickle in /usr/local/lib/python3.10/dist-packages (from mlc-ai-nightly) (2.2.1)\n",
            "Installing collected packages: mlc-ai-nightly\n",
            "Successfully installed mlc-ai-nightly-0.12.dev871+g838ec67e9\n"
          ]
        }
      ]
    },
    {
      "cell_type": "markdown",
      "source": [
        "# Recap: Transform a Primitive Tensor Func"
      ],
      "metadata": {
        "id": "FvCWLairJezX"
      }
    },
    {
      "cell_type": "code",
      "source": [
        "f32 = \"float32\"\n",
        "@tvm.script.ir_module\n",
        "class MyModule:\n",
        "    @T.prim_func\n",
        "    def main(\n",
        "        A: T.Buffer((128, 128), f32),\n",
        "        B: T.Buffer((128, 128), f32),\n",
        "        C: T.Buffer((128, 128), f32),\n",
        "    ):\n",
        "        T.func_attr({\"global_symbol\": \"main\", \"tir.noalias\": True})\n",
        "        for i, j, k in T.grid(128, 128, 128):\n",
        "            with T.block(\"C\"):\n",
        "                vi, vj, vk = T.axis.remap(\"SSR\", [i, j ,k])\n",
        "                with T.init():\n",
        "                    C[vi, vj] = T.float32(0)\n",
        "                C[vi, vj] = C[vi, vj] + A[vi, vk] * B[vk, vj]"
      ],
      "metadata": {
        "id": "P24TTPaHJa1k"
      },
      "execution_count": 2,
      "outputs": []
    },
    {
      "cell_type": "code",
      "source": [
        "# define input values and baseline\n",
        "a_np = np.random.rand(128, 128).astype(f32)\n",
        "b_np = np.random.rand(128, 128).astype(f32)\n",
        "c_np = a_np @ b_np"
      ],
      "metadata": {
        "id": "y-ztCUAeKA1S"
      },
      "execution_count": 3,
      "outputs": []
    },
    {
      "cell_type": "code",
      "source": [
        "# run MyModule\n",
        "a_tvm = tvm.nd.array(a_np)\n",
        "b_tvm = tvm.nd.array(b_np)\n",
        "c_tvm = tvm.nd.empty((128, 128), dtype=f32)\n",
        "\n",
        "lib_rt = tvm.build(MyModule, target=\"llvm\")\n",
        "f_timer_before = lib_rt.time_evaluator(\"main\", tvm.cpu())\n",
        "print(\"Time of MyModule: \", f_timer_before(a_tvm, b_tvm, c_tvm).mean * 1000, \" ms\")\n",
        "np.testing.assert_allclose(c_tvm.numpy(), c_np, rtol=1e-5)"
      ],
      "metadata": {
        "colab": {
          "base_uri": "https://localhost:8080/"
        },
        "id": "Kyci9h3VLFH7",
        "outputId": "fd3dbd2b-5ebc-4efe-c174-445254d19a2f"
      },
      "execution_count": 4,
      "outputs": [
        {
          "output_type": "stream",
          "name": "stdout",
          "text": [
            "Time of MyModule:  4.4628361  ms\n"
          ]
        }
      ]
    },
    {
      "cell_type": "markdown",
      "source": [
        "# Transformation: loop reordering\n",
        "\n",
        "Let's add some simple transformations (split j as input arg `jfactor`)\n",
        "\n",
        "(we did this before)"
      ],
      "metadata": {
        "id": "-k3oWPc4M_i5"
      }
    },
    {
      "cell_type": "code",
      "source": [
        "def schdule_mm(sch: tvm.tir.Schedule, jfactor=4):\n",
        "    block_C = sch.get_block(\"C\", \"main\")\n",
        "    i, j, k = sch.get_loops(block_C)\n",
        "    j0, j1 = sch.split(j, factors=[None, jfactor])\n",
        "    sch.reorder(i, j0, k, j1)\n",
        "    sch.decompose_reduction(block_C, k)\n",
        "    return sch"
      ],
      "metadata": {
        "id": "LEkL1H6qMJRk"
      },
      "execution_count": 5,
      "outputs": []
    },
    {
      "cell_type": "code",
      "source": [
        "# apply transformation\n",
        "sch = tvm.tir.Schedule(MyModule)\n",
        "sch = schdule_mm(sch)\n",
        "sch.mod.show()"
      ],
      "metadata": {
        "colab": {
          "base_uri": "https://localhost:8080/",
          "height": 530
        },
        "id": "X1e84MTAOiRE",
        "outputId": "32d6f42c-eefa-4688-ba89-dda6f5f67ab4"
      },
      "execution_count": 6,
      "outputs": [
        {
          "output_type": "stream",
          "name": "stderr",
          "text": [
            "/usr/local/lib/python3.10/dist-packages/tvm/script/highlight.py:117: UserWarning: No module named 'black'\n",
            "To print formatted TVM script, please install the formatter 'Black':\n",
            "/usr/bin/python3 -m pip install \"black==22.3.0\" --upgrade --user\n",
            "  warnings.warn(\n"
          ]
        },
        {
          "output_type": "display_data",
          "data": {
            "text/plain": [
              "<IPython.core.display.HTML object>"
            ],
            "text/html": [
              "<div class=\"highlight\" style=\"background: \"><pre style=\"line-height: 125%;\"><span></span><span style=\"color: #007979; font-style: italic\"># from tvm.script import ir as I</span>\n",
              "<span style=\"color: #007979; font-style: italic\"># from tvm.script import tir as T</span>\n",
              "\n",
              "<span style=\"color: #AA22FF\">@I</span><span style=\"color: #AA22FF; font-weight: bold\">.</span>ir_module\n",
              "<span style=\"color: #008000; font-weight: bold\">class</span> <span style=\"color: #0000FF; font-weight: bold\">Module</span>:\n",
              "    <span style=\"color: #AA22FF\">@T</span><span style=\"color: #AA22FF; font-weight: bold\">.</span>prim_func\n",
              "    <span style=\"color: #008000; font-weight: bold\">def</span> <span style=\"color: #0000FF\">main</span>(A: T<span style=\"color: #AA22FF; font-weight: bold\">.</span>Buffer((<span style=\"color: #008000\">128</span>, <span style=\"color: #008000\">128</span>), <span style=\"color: #BA2121\">&quot;float32&quot;</span>), B: T<span style=\"color: #AA22FF; font-weight: bold\">.</span>Buffer((<span style=\"color: #008000\">128</span>, <span style=\"color: #008000\">128</span>), <span style=\"color: #BA2121\">&quot;float32&quot;</span>), C: T<span style=\"color: #AA22FF; font-weight: bold\">.</span>Buffer((<span style=\"color: #008000\">128</span>, <span style=\"color: #008000\">128</span>), <span style=\"color: #BA2121\">&quot;float32&quot;</span>)):\n",
              "        T<span style=\"color: #AA22FF; font-weight: bold\">.</span>func_attr({<span style=\"color: #BA2121\">&quot;global_symbol&quot;</span>: <span style=\"color: #BA2121\">&quot;main&quot;</span>, <span style=\"color: #BA2121\">&quot;tir.noalias&quot;</span>: T<span style=\"color: #AA22FF; font-weight: bold\">.</span>bool(<span style=\"color: #008000; font-weight: bold\">True</span>)})\n",
              "        <span style=\"color: #007979; font-style: italic\"># with T.block(&quot;root&quot;):</span>\n",
              "        <span style=\"color: #008000; font-weight: bold\">for</span> i, j_0 <span style=\"color: #008000; font-weight: bold\">in</span> T<span style=\"color: #AA22FF; font-weight: bold\">.</span>grid(<span style=\"color: #008000\">128</span>, <span style=\"color: #008000\">32</span>):\n",
              "            <span style=\"color: #008000; font-weight: bold\">for</span> j_1_init <span style=\"color: #008000; font-weight: bold\">in</span> range(<span style=\"color: #008000\">4</span>):\n",
              "                <span style=\"color: #008000; font-weight: bold\">with</span> T<span style=\"color: #AA22FF; font-weight: bold\">.</span>block(<span style=\"color: #BA2121\">&quot;C_init&quot;</span>):\n",
              "                    vi <span style=\"color: #AA22FF; font-weight: bold\">=</span> T<span style=\"color: #AA22FF; font-weight: bold\">.</span>axis<span style=\"color: #AA22FF; font-weight: bold\">.</span>spatial(<span style=\"color: #008000\">128</span>, i)\n",
              "                    vj <span style=\"color: #AA22FF; font-weight: bold\">=</span> T<span style=\"color: #AA22FF; font-weight: bold\">.</span>axis<span style=\"color: #AA22FF; font-weight: bold\">.</span>spatial(<span style=\"color: #008000\">128</span>, j_0 <span style=\"color: #AA22FF; font-weight: bold\">*</span> <span style=\"color: #008000\">4</span> <span style=\"color: #AA22FF; font-weight: bold\">+</span> j_1_init)\n",
              "                    T<span style=\"color: #AA22FF; font-weight: bold\">.</span>reads()\n",
              "                    T<span style=\"color: #AA22FF; font-weight: bold\">.</span>writes(C[vi, vj])\n",
              "                    C[vi, vj] <span style=\"color: #AA22FF; font-weight: bold\">=</span> T<span style=\"color: #AA22FF; font-weight: bold\">.</span>float32(<span style=\"color: #008000\">0</span>)\n",
              "            <span style=\"color: #008000; font-weight: bold\">for</span> k, j_1 <span style=\"color: #008000; font-weight: bold\">in</span> T<span style=\"color: #AA22FF; font-weight: bold\">.</span>grid(<span style=\"color: #008000\">128</span>, <span style=\"color: #008000\">4</span>):\n",
              "                <span style=\"color: #008000; font-weight: bold\">with</span> T<span style=\"color: #AA22FF; font-weight: bold\">.</span>block(<span style=\"color: #BA2121\">&quot;C_update&quot;</span>):\n",
              "                    vi <span style=\"color: #AA22FF; font-weight: bold\">=</span> T<span style=\"color: #AA22FF; font-weight: bold\">.</span>axis<span style=\"color: #AA22FF; font-weight: bold\">.</span>spatial(<span style=\"color: #008000\">128</span>, i)\n",
              "                    vj <span style=\"color: #AA22FF; font-weight: bold\">=</span> T<span style=\"color: #AA22FF; font-weight: bold\">.</span>axis<span style=\"color: #AA22FF; font-weight: bold\">.</span>spatial(<span style=\"color: #008000\">128</span>, j_0 <span style=\"color: #AA22FF; font-weight: bold\">*</span> <span style=\"color: #008000\">4</span> <span style=\"color: #AA22FF; font-weight: bold\">+</span> j_1)\n",
              "                    vk <span style=\"color: #AA22FF; font-weight: bold\">=</span> T<span style=\"color: #AA22FF; font-weight: bold\">.</span>axis<span style=\"color: #AA22FF; font-weight: bold\">.</span>reduce(<span style=\"color: #008000\">128</span>, k)\n",
              "                    T<span style=\"color: #AA22FF; font-weight: bold\">.</span>reads(C[vi, vj], A[vi, vk], B[vk, vj])\n",
              "                    T<span style=\"color: #AA22FF; font-weight: bold\">.</span>writes(C[vi, vj])\n",
              "                    C[vi, vj] <span style=\"color: #AA22FF; font-weight: bold\">=</span> C[vi, vj] <span style=\"color: #AA22FF; font-weight: bold\">+</span> A[vi, vk] <span style=\"color: #AA22FF; font-weight: bold\">*</span> B[vk, vj]\n",
              "</pre></div>\n"
            ]
          },
          "metadata": {}
        }
      ]
    },
    {
      "cell_type": "code",
      "source": [
        "# run the mod\n",
        "lib_rt_mod = tvm.build(sch.mod, target=\"llvm\")\n",
        "f_timer_after = lib_rt_mod.time_evaluator(\"main\", tvm.cpu())\n",
        "print(\"Time of MyModule.mod: \", f_timer_before(a_tvm, b_tvm, c_tvm).mean * 1000, \" ms\")\n",
        "np.testing.assert_allclose(c_tvm.numpy(), c_np, rtol=1e-5)"
      ],
      "metadata": {
        "colab": {
          "base_uri": "https://localhost:8080/"
        },
        "id": "juOqYfmmO1KB",
        "outputId": "f14364ba-8f63-4c14-d5c7-f5b3d1365d42"
      },
      "execution_count": 7,
      "outputs": [
        {
          "output_type": "stream",
          "name": "stdout",
          "text": [
            "Time of MyModule.mod:  4.7245186  ms\n"
          ]
        }
      ]
    },
    {
      "cell_type": "markdown",
      "source": [
        "`sch.mod` should take less time theoretically. It may be subjected to noises."
      ],
      "metadata": {
        "id": "qtJKQ3NtPdIY"
      }
    },
    {
      "cell_type": "markdown",
      "source": [
        "# Transformation Trace\n",
        "\n",
        "`tir.Schedule` offers a trace field, showing the steps to get a transformed module."
      ],
      "metadata": {
        "id": "4a65Z939P1y4"
      }
    },
    {
      "cell_type": "code",
      "source": [
        "print(sch.trace) # exact transformation in schdule_mm"
      ],
      "metadata": {
        "colab": {
          "base_uri": "https://localhost:8080/"
        },
        "id": "RuWoXcUvPptZ",
        "outputId": "902714a0-b43d-4470-c7a7-19801d9ee354"
      },
      "execution_count": 8,
      "outputs": [
        {
          "output_type": "stream",
          "name": "stdout",
          "text": [
            "# from tvm import tir\n",
            "def apply_trace(sch: tir.Schedule) -> None:\n",
            "  b0 = sch.get_block(name=\"C\", func_name=\"main\")\n",
            "  l1, l2, l3 = sch.get_loops(block=b0)\n",
            "  l4, l5 = sch.split(loop=l2, factors=[None, 4], preserve_unit_iters=True)\n",
            "  sch.reorder(l1, l4, l3, l5)\n",
            "  b6 = sch.decompose_reduction(block=b0, loop=l3)\n"
          ]
        }
      ]
    },
    {
      "cell_type": "markdown",
      "source": [
        "# Stochastic Transformation\n",
        "\n",
        "use stochastic elements in tranformation function to see which achieves better performance."
      ],
      "metadata": {
        "id": "-mTSgqZHS6Ns"
      }
    },
    {
      "cell_type": "code",
      "source": [
        "def stochastic_schdule_mm(sch: tvm.tir.Schedule): # no longer specify jfactors\n",
        "    block_C = sch.get_block(\"C\", \"main\")\n",
        "    i, j, k = sch.get_loops(block_C)\n",
        "    j_factors = sch.sample_perfect_tile(loop=j, n=2) # stochastic\n",
        "    j0, j1 = sch.split(j, factors=j_factors)\n",
        "    sch.reorder(i, j0, k, j1)\n",
        "    sch.decompose_reduction(block_C, k)\n",
        "    return sch"
      ],
      "metadata": {
        "id": "HJemymMfTN8o"
      },
      "execution_count": 9,
      "outputs": []
    },
    {
      "cell_type": "markdown",
      "source": [
        "possible j_factors: [8, 16], [32, 4], [2, 64], [1,128]"
      ],
      "metadata": {
        "id": "4yrYcTzIU8Xr"
      }
    },
    {
      "cell_type": "code",
      "source": [
        "sch = tvm.tir.Schedule(MyModule)\n",
        "sch = stochastic_schdule_mm(sch)\n",
        "sch.mod.show()"
      ],
      "metadata": {
        "colab": {
          "base_uri": "https://localhost:8080/",
          "height": 530
        },
        "id": "e6QBZq5nUGUf",
        "outputId": "b55ae341-e6f4-430e-ce87-9b8881a000d8"
      },
      "execution_count": 10,
      "outputs": [
        {
          "output_type": "stream",
          "name": "stderr",
          "text": [
            "/usr/local/lib/python3.10/dist-packages/tvm/script/highlight.py:117: UserWarning: No module named 'black'\n",
            "To print formatted TVM script, please install the formatter 'Black':\n",
            "/usr/bin/python3 -m pip install \"black==22.3.0\" --upgrade --user\n",
            "  warnings.warn(\n"
          ]
        },
        {
          "output_type": "display_data",
          "data": {
            "text/plain": [
              "<IPython.core.display.HTML object>"
            ],
            "text/html": [
              "<div class=\"highlight\" style=\"background: \"><pre style=\"line-height: 125%;\"><span></span><span style=\"color: #007979; font-style: italic\"># from tvm.script import ir as I</span>\n",
              "<span style=\"color: #007979; font-style: italic\"># from tvm.script import tir as T</span>\n",
              "\n",
              "<span style=\"color: #AA22FF\">@I</span><span style=\"color: #AA22FF; font-weight: bold\">.</span>ir_module\n",
              "<span style=\"color: #008000; font-weight: bold\">class</span> <span style=\"color: #0000FF; font-weight: bold\">Module</span>:\n",
              "    <span style=\"color: #AA22FF\">@T</span><span style=\"color: #AA22FF; font-weight: bold\">.</span>prim_func\n",
              "    <span style=\"color: #008000; font-weight: bold\">def</span> <span style=\"color: #0000FF\">main</span>(A: T<span style=\"color: #AA22FF; font-weight: bold\">.</span>Buffer((<span style=\"color: #008000\">128</span>, <span style=\"color: #008000\">128</span>), <span style=\"color: #BA2121\">&quot;float32&quot;</span>), B: T<span style=\"color: #AA22FF; font-weight: bold\">.</span>Buffer((<span style=\"color: #008000\">128</span>, <span style=\"color: #008000\">128</span>), <span style=\"color: #BA2121\">&quot;float32&quot;</span>), C: T<span style=\"color: #AA22FF; font-weight: bold\">.</span>Buffer((<span style=\"color: #008000\">128</span>, <span style=\"color: #008000\">128</span>), <span style=\"color: #BA2121\">&quot;float32&quot;</span>)):\n",
              "        T<span style=\"color: #AA22FF; font-weight: bold\">.</span>func_attr({<span style=\"color: #BA2121\">&quot;global_symbol&quot;</span>: <span style=\"color: #BA2121\">&quot;main&quot;</span>, <span style=\"color: #BA2121\">&quot;tir.noalias&quot;</span>: T<span style=\"color: #AA22FF; font-weight: bold\">.</span>bool(<span style=\"color: #008000; font-weight: bold\">True</span>)})\n",
              "        <span style=\"color: #007979; font-style: italic\"># with T.block(&quot;root&quot;):</span>\n",
              "        <span style=\"color: #008000; font-weight: bold\">for</span> i, j_0 <span style=\"color: #008000; font-weight: bold\">in</span> T<span style=\"color: #AA22FF; font-weight: bold\">.</span>grid(<span style=\"color: #008000\">128</span>, <span style=\"color: #008000\">64</span>):\n",
              "            <span style=\"color: #008000; font-weight: bold\">for</span> j_1_init <span style=\"color: #008000; font-weight: bold\">in</span> range(<span style=\"color: #008000\">2</span>):\n",
              "                <span style=\"color: #008000; font-weight: bold\">with</span> T<span style=\"color: #AA22FF; font-weight: bold\">.</span>block(<span style=\"color: #BA2121\">&quot;C_init&quot;</span>):\n",
              "                    vi <span style=\"color: #AA22FF; font-weight: bold\">=</span> T<span style=\"color: #AA22FF; font-weight: bold\">.</span>axis<span style=\"color: #AA22FF; font-weight: bold\">.</span>spatial(<span style=\"color: #008000\">128</span>, i)\n",
              "                    vj <span style=\"color: #AA22FF; font-weight: bold\">=</span> T<span style=\"color: #AA22FF; font-weight: bold\">.</span>axis<span style=\"color: #AA22FF; font-weight: bold\">.</span>spatial(<span style=\"color: #008000\">128</span>, j_0 <span style=\"color: #AA22FF; font-weight: bold\">*</span> <span style=\"color: #008000\">2</span> <span style=\"color: #AA22FF; font-weight: bold\">+</span> j_1_init)\n",
              "                    T<span style=\"color: #AA22FF; font-weight: bold\">.</span>reads()\n",
              "                    T<span style=\"color: #AA22FF; font-weight: bold\">.</span>writes(C[vi, vj])\n",
              "                    C[vi, vj] <span style=\"color: #AA22FF; font-weight: bold\">=</span> T<span style=\"color: #AA22FF; font-weight: bold\">.</span>float32(<span style=\"color: #008000\">0</span>)\n",
              "            <span style=\"color: #008000; font-weight: bold\">for</span> k, j_1 <span style=\"color: #008000; font-weight: bold\">in</span> T<span style=\"color: #AA22FF; font-weight: bold\">.</span>grid(<span style=\"color: #008000\">128</span>, <span style=\"color: #008000\">2</span>):\n",
              "                <span style=\"color: #008000; font-weight: bold\">with</span> T<span style=\"color: #AA22FF; font-weight: bold\">.</span>block(<span style=\"color: #BA2121\">&quot;C_update&quot;</span>):\n",
              "                    vi <span style=\"color: #AA22FF; font-weight: bold\">=</span> T<span style=\"color: #AA22FF; font-weight: bold\">.</span>axis<span style=\"color: #AA22FF; font-weight: bold\">.</span>spatial(<span style=\"color: #008000\">128</span>, i)\n",
              "                    vj <span style=\"color: #AA22FF; font-weight: bold\">=</span> T<span style=\"color: #AA22FF; font-weight: bold\">.</span>axis<span style=\"color: #AA22FF; font-weight: bold\">.</span>spatial(<span style=\"color: #008000\">128</span>, j_0 <span style=\"color: #AA22FF; font-weight: bold\">*</span> <span style=\"color: #008000\">2</span> <span style=\"color: #AA22FF; font-weight: bold\">+</span> j_1)\n",
              "                    vk <span style=\"color: #AA22FF; font-weight: bold\">=</span> T<span style=\"color: #AA22FF; font-weight: bold\">.</span>axis<span style=\"color: #AA22FF; font-weight: bold\">.</span>reduce(<span style=\"color: #008000\">128</span>, k)\n",
              "                    T<span style=\"color: #AA22FF; font-weight: bold\">.</span>reads(C[vi, vj], A[vi, vk], B[vk, vj])\n",
              "                    T<span style=\"color: #AA22FF; font-weight: bold\">.</span>writes(C[vi, vj])\n",
              "                    C[vi, vj] <span style=\"color: #AA22FF; font-weight: bold\">=</span> C[vi, vj] <span style=\"color: #AA22FF; font-weight: bold\">+</span> A[vi, vk] <span style=\"color: #AA22FF; font-weight: bold\">*</span> B[vk, vj]\n",
              "</pre></div>\n"
            ]
          },
          "metadata": {}
        }
      ]
    },
    {
      "cell_type": "code",
      "source": [
        "# check the trace to see the jfactors\n",
        "print(sch.trace)"
      ],
      "metadata": {
        "colab": {
          "base_uri": "https://localhost:8080/"
        },
        "id": "CElugpxbVItJ",
        "outputId": "82167c00-361a-477b-d21a-43bea67c36ff"
      },
      "execution_count": 11,
      "outputs": [
        {
          "output_type": "stream",
          "name": "stdout",
          "text": [
            "# from tvm import tir\n",
            "def apply_trace(sch: tir.Schedule) -> None:\n",
            "  b0 = sch.get_block(name=\"C\", func_name=\"main\")\n",
            "  l1, l2, l3 = sch.get_loops(block=b0)\n",
            "  v4, v5 = sch.sample_perfect_tile(loop=l2, n=2, max_innermost_factor=16, decision=[64, 2])\n",
            "  l6, l7 = sch.split(loop=l2, factors=[v4, v5], preserve_unit_iters=True)\n",
            "  sch.reorder(l1, l6, l3, l7)\n",
            "  b8 = sch.decompose_reduction(block=b0, loop=l3)\n"
          ]
        }
      ]
    },
    {
      "cell_type": "markdown",
      "source": [
        "# Search over Stochastic Transformations\n",
        "\n",
        "with a stochastic transformation function, there is a search space of programs (a set of possible variant programs).\n",
        "\n",
        "with a search space, what is the best choice?\n",
        "\n",
        "- it could be machine dependant. different machines favor different variant programs.\n",
        "\n",
        "Let's try the simplest algorithm: **random search**"
      ],
      "metadata": {
        "id": "13HY4zIeeX1F"
      }
    },
    {
      "cell_type": "code",
      "source": [
        "def random_search(mod: tvm.IRModule, num_trials=5):\n",
        "    best_result = None\n",
        "    best_sch = None\n",
        "\n",
        "    for i in range(num_trials):\n",
        "        sch = stochastic_schdule_mm(tvm.tir.Schedule(mod))\n",
        "        lib = tvm.build(sch.mod, target='llvm')\n",
        "        f_timer_after = lib.time_evaluator('main', tvm.cpu())\n",
        "        result = f_timer_after(a_tvm, b_tvm, c_tvm).mean\n",
        "\n",
        "        print(f\"====== trial {i}, time {result * 1000} ms\")\n",
        "        print(sch.trace)\n",
        "\n",
        "        if best_result is None or result < best_result:\n",
        "            best_result = result\n",
        "            best_sch = sch\n",
        "\n",
        "    return best_sch"
      ],
      "metadata": {
        "id": "pK9pgZ1WgN0W"
      },
      "execution_count": 12,
      "outputs": []
    },
    {
      "cell_type": "code",
      "source": [
        "sch = random_search(MyModule)"
      ],
      "metadata": {
        "id": "aEPIOmq3heCV",
        "outputId": "07b3e76b-87b0-4587-b5cc-fc084077d3bd",
        "colab": {
          "base_uri": "https://localhost:8080/"
        }
      },
      "execution_count": 13,
      "outputs": [
        {
          "output_type": "stream",
          "name": "stdout",
          "text": [
            "====== trial 0, time 3.4508519000000004 ms\n",
            "# from tvm import tir\n",
            "def apply_trace(sch: tir.Schedule) -> None:\n",
            "  b0 = sch.get_block(name=\"C\", func_name=\"main\")\n",
            "  l1, l2, l3 = sch.get_loops(block=b0)\n",
            "  v4, v5 = sch.sample_perfect_tile(loop=l2, n=2, max_innermost_factor=16, decision=[64, 2])\n",
            "  l6, l7 = sch.split(loop=l2, factors=[v4, v5], preserve_unit_iters=True)\n",
            "  sch.reorder(l1, l6, l3, l7)\n",
            "  b8 = sch.decompose_reduction(block=b0, loop=l3)\n",
            "====== trial 1, time 1.6079872000000002 ms\n",
            "# from tvm import tir\n",
            "def apply_trace(sch: tir.Schedule) -> None:\n",
            "  b0 = sch.get_block(name=\"C\", func_name=\"main\")\n",
            "  l1, l2, l3 = sch.get_loops(block=b0)\n",
            "  v4, v5 = sch.sample_perfect_tile(loop=l2, n=2, max_innermost_factor=16, decision=[16, 8])\n",
            "  l6, l7 = sch.split(loop=l2, factors=[v4, v5], preserve_unit_iters=True)\n",
            "  sch.reorder(l1, l6, l3, l7)\n",
            "  b8 = sch.decompose_reduction(block=b0, loop=l3)\n",
            "====== trial 2, time 1.7800772 ms\n",
            "# from tvm import tir\n",
            "def apply_trace(sch: tir.Schedule) -> None:\n",
            "  b0 = sch.get_block(name=\"C\", func_name=\"main\")\n",
            "  l1, l2, l3 = sch.get_loops(block=b0)\n",
            "  v4, v5 = sch.sample_perfect_tile(loop=l2, n=2, max_innermost_factor=16, decision=[16, 8])\n",
            "  l6, l7 = sch.split(loop=l2, factors=[v4, v5], preserve_unit_iters=True)\n",
            "  sch.reorder(l1, l6, l3, l7)\n",
            "  b8 = sch.decompose_reduction(block=b0, loop=l3)\n",
            "====== trial 3, time 2.9453527 ms\n",
            "# from tvm import tir\n",
            "def apply_trace(sch: tir.Schedule) -> None:\n",
            "  b0 = sch.get_block(name=\"C\", func_name=\"main\")\n",
            "  l1, l2, l3 = sch.get_loops(block=b0)\n",
            "  v4, v5 = sch.sample_perfect_tile(loop=l2, n=2, max_innermost_factor=16, decision=[128, 1])\n",
            "  l6, l7 = sch.split(loop=l2, factors=[v4, v5], preserve_unit_iters=True)\n",
            "  sch.reorder(l1, l6, l3, l7)\n",
            "  b8 = sch.decompose_reduction(block=b0, loop=l3)\n",
            "====== trial 4, time 1.5114963 ms\n",
            "# from tvm import tir\n",
            "def apply_trace(sch: tir.Schedule) -> None:\n",
            "  b0 = sch.get_block(name=\"C\", func_name=\"main\")\n",
            "  l1, l2, l3 = sch.get_loops(block=b0)\n",
            "  v4, v5 = sch.sample_perfect_tile(loop=l2, n=2, max_innermost_factor=16, decision=[8, 16])\n",
            "  l6, l7 = sch.split(loop=l2, factors=[v4, v5], preserve_unit_iters=True)\n",
            "  sch.reorder(l1, l6, l3, l7)\n",
            "  b8 = sch.decompose_reduction(block=b0, loop=l3)\n"
          ]
        }
      ]
    },
    {
      "cell_type": "code",
      "source": [
        "print(sch.trace)"
      ],
      "metadata": {
        "id": "5wxDPaUSho1w",
        "outputId": "3fb3066e-0483-4bcd-a3ec-aad54fd62719",
        "colab": {
          "base_uri": "https://localhost:8080/"
        }
      },
      "execution_count": 14,
      "outputs": [
        {
          "output_type": "stream",
          "name": "stdout",
          "text": [
            "# from tvm import tir\n",
            "def apply_trace(sch: tir.Schedule) -> None:\n",
            "  b0 = sch.get_block(name=\"C\", func_name=\"main\")\n",
            "  l1, l2, l3 = sch.get_loops(block=b0)\n",
            "  v4, v5 = sch.sample_perfect_tile(loop=l2, n=2, max_innermost_factor=16, decision=[8, 16])\n",
            "  l6, l7 = sch.split(loop=l2, factors=[v4, v5], preserve_unit_iters=True)\n",
            "  sch.reorder(l1, l6, l3, l7)\n",
            "  b8 = sch.decompose_reduction(block=b0, loop=l3)\n"
          ]
        }
      ]
    },
    {
      "cell_type": "markdown",
      "source": [
        "## meta_schedule\n",
        "\n",
        "tvm offers `tune_tir` API to search for an optimizied solution within the search space specified by a stochastic transformation function"
      ],
      "metadata": {
        "id": "6bmhWz2Ph9W4"
      }
    },
    {
      "cell_type": "code",
      "source": [
        "from tvm import meta_schedule as ms\n",
        "\n",
        "database = ms.tune_tir(\n",
        "    mod=MyModule,\n",
        "    target=\"llvm --num-cores=1\",\n",
        "    max_trials_global=64,\n",
        "    num_trials_per_iter=64,\n",
        "    space=ms.space_generator.ScheduleFn(stochastic_schdule_mm),\n",
        "    work_dir=\"./turn_tmp\",\n",
        "    task_name=\"main\"\n",
        ")\n",
        "\n",
        "sch = ms.tir_integration.compile_tir(database, MyModule, \"llvm --num-cores=1\")"
      ],
      "metadata": {
        "id": "1BDVFDGzjE_G",
        "outputId": "ef14f585-47a0-4c93-ca6d-81f0ebbc1ae3",
        "colab": {
          "base_uri": "https://localhost:8080/"
        }
      },
      "execution_count": 16,
      "outputs": [
        {
          "output_type": "stream",
          "name": "stdout",
          "text": [
            "2023-05-04 11:39:25 [INFO] Logging directory: ./turn_tmp/logs\n",
            "2023-05-04 11:39:50 [INFO] LocalBuilder: max_workers = 1\n",
            "2023-05-04 11:39:53 [INFO] LocalRunner: max_workers = 1\n",
            "2023-05-04 11:39:55 [INFO] [task_scheduler.cc:159] Initializing Task #0: \"main\"\n",
            "2023-05-04 11:39:55 [INFO] [task_scheduler.cc:180] TaskScheduler picks Task #0: \"main\"\n",
            "2023-05-04 11:39:56 [INFO] [task_scheduler.cc:193] Sending 5 sample(s) to builder\n",
            "2023-05-04 11:39:59 [INFO] [task_scheduler.cc:195] Sending 5 sample(s) to runner\n",
            "2023-05-04 11:40:00 [DEBUG] XGB iter   0: tr-p-rmse: 0.241205\ttr-a-peak@32: 1.000000\ttr-rmse: 0.281914\ttr-rmse: 0.281914\n",
            "2023-05-04 11:40:00 [DEBUG] XGB iter  25: tr-p-rmse: 0.036077\ttr-a-peak@32: 1.000000\ttr-rmse: 0.037404\ttr-rmse: 0.037404\n",
            "2023-05-04 11:40:00 [DEBUG] XGB iter  50: tr-p-rmse: 0.037348\ttr-a-peak@32: 1.000000\ttr-rmse: 0.036806\ttr-rmse: 0.036806\n",
            "2023-05-04 11:40:00 [DEBUG] XGB stopped. Best iteration: [22] tr-p-rmse:0.03588\ttr-a-peak@32:1.00000\ttr-rmse:0.03842\ttr-rmse:0.03842 \n",
            "2023-05-04 11:40:00 [INFO] [task_scheduler.cc:237] [Updated] Task #0: \"main\"\n",
            "2023-05-04 11:40:00 [INFO] [task_scheduler.cc:320] \n",
            " ID | Name |    FLOP | Weight | Speed (GFLOPS) | Latency (us) | Weighted Latency (us) | Trials | Done \n",
            "------------------------------------------------------------------------------------------------------\n",
            "  0 | main | 4194304 |      1 |         2.9780 |    1408.4112 |             1408.4112 |      5 |      \n",
            "------------------------------------------------------------------------------------------------------\n",
            "Total trials: 5\n",
            "Total latency (us): 1408.41\n",
            "\n",
            "2023-05-04 11:40:00 [INFO] [task_scheduler.cc:180] TaskScheduler picks Task #0: \"main\"\n",
            "2023-05-04 11:40:02 [INFO] [task_scheduler.cc:193] Sending 0 sample(s) to builder\n",
            "2023-05-04 11:40:02 [INFO] [task_scheduler.cc:195] Sending 0 sample(s) to runner\n",
            "2023-05-04 11:40:02 [INFO] [task_scheduler.cc:237] [Updated] Task #0: \"main\"\n",
            "2023-05-04 11:40:02 [INFO] [task_scheduler.cc:320] \n",
            " ID | Name |    FLOP | Weight | Speed (GFLOPS) | Latency (us) | Weighted Latency (us) | Trials | Done \n",
            "------------------------------------------------------------------------------------------------------\n",
            "  0 | main | 4194304 |      1 |         2.9780 |    1408.4112 |             1408.4112 |      5 |      \n",
            "------------------------------------------------------------------------------------------------------\n",
            "Total trials: 5\n",
            "Total latency (us): 1408.41\n",
            "\n",
            "2023-05-04 11:40:02 [INFO] [task_scheduler.cc:180] TaskScheduler picks Task #0: \"main\"\n",
            "2023-05-04 11:40:04 [INFO] [task_scheduler.cc:193] Sending 0 sample(s) to builder\n",
            "2023-05-04 11:40:04 [INFO] [task_scheduler.cc:195] Sending 0 sample(s) to runner\n",
            "2023-05-04 11:40:04 [INFO] [task_scheduler.cc:237] [Updated] Task #0: \"main\"\n",
            "2023-05-04 11:40:04 [INFO] [task_scheduler.cc:320] \n",
            " ID | Name |    FLOP | Weight | Speed (GFLOPS) | Latency (us) | Weighted Latency (us) | Trials | Done \n",
            "------------------------------------------------------------------------------------------------------\n",
            "  0 | main | 4194304 |      1 |         2.9780 |    1408.4112 |             1408.4112 |      5 |      \n",
            "------------------------------------------------------------------------------------------------------\n",
            "Total trials: 5\n",
            "Total latency (us): 1408.41\n",
            "\n",
            "2023-05-04 11:40:04 [INFO] [task_scheduler.cc:180] TaskScheduler picks Task #0: \"main\"\n",
            "2023-05-04 11:40:06 [INFO] [task_scheduler.cc:193] Sending 0 sample(s) to builder\n",
            "2023-05-04 11:40:06 [INFO] [task_scheduler.cc:195] Sending 0 sample(s) to runner\n",
            "2023-05-04 11:40:06 [INFO] [task_scheduler.cc:237] [Updated] Task #0: \"main\"\n",
            "2023-05-04 11:40:06 [INFO] [task_scheduler.cc:320] \n",
            " ID | Name |    FLOP | Weight | Speed (GFLOPS) | Latency (us) | Weighted Latency (us) | Trials | Done \n",
            "------------------------------------------------------------------------------------------------------\n",
            "  0 | main | 4194304 |      1 |         2.9780 |    1408.4112 |             1408.4112 |      5 |      \n",
            "------------------------------------------------------------------------------------------------------\n",
            "Total trials: 5\n",
            "Total latency (us): 1408.41\n",
            "\n",
            "2023-05-04 11:40:06 [INFO] [task_scheduler.cc:180] TaskScheduler picks Task #0: \"main\"\n",
            "2023-05-04 11:40:09 [INFO] [task_scheduler.cc:193] Sending 0 sample(s) to builder\n",
            "2023-05-04 11:40:09 [INFO] [task_scheduler.cc:195] Sending 0 sample(s) to runner\n",
            "2023-05-04 11:40:09 [INFO] [task_scheduler.cc:237] [Updated] Task #0: \"main\"\n",
            "2023-05-04 11:40:09 [INFO] [task_scheduler.cc:320] \n",
            " ID | Name |    FLOP | Weight | Speed (GFLOPS) | Latency (us) | Weighted Latency (us) | Trials | Done \n",
            "------------------------------------------------------------------------------------------------------\n",
            "  0 | main | 4194304 |      1 |         2.9780 |    1408.4112 |             1408.4112 |      5 |      \n",
            "------------------------------------------------------------------------------------------------------\n",
            "Total trials: 5\n",
            "Total latency (us): 1408.41\n",
            "\n",
            "2023-05-04 11:40:09 [INFO] [task_scheduler.cc:180] TaskScheduler picks Task #0: \"main\"\n",
            "2023-05-04 11:40:10 [INFO] [task_scheduler.cc:260] Task #0 has finished. Remaining task(s): 0\n",
            "2023-05-04 11:40:10 [INFO] [task_scheduler.cc:320] \n",
            " ID | Name |    FLOP | Weight | Speed (GFLOPS) | Latency (us) | Weighted Latency (us) | Trials | Done \n",
            "------------------------------------------------------------------------------------------------------\n",
            "  0 | main | 4194304 |      1 |         2.9780 |    1408.4112 |             1408.4112 |      5 |    Y \n",
            "------------------------------------------------------------------------------------------------------\n",
            "Total trials: 5\n",
            "Total latency (us): 1408.41\n",
            "\n"
          ]
        }
      ]
    },
    {
      "cell_type": "code",
      "source": [
        "lib = tvm.build(sch.mod, target=\"llvm\")\n",
        "f_timer_after = lib.time_evaluator(\"main\", tvm.cpu())\n",
        "print(\"Time cost of MyModule after tuning: %.3f ms\" % (f_timer_after(a_tvm, b_tvm, c_tvm).mean * 1000))"
      ],
      "metadata": {
        "id": "5FRo0N98m05O",
        "outputId": "45c6dc36-d7ec-4fd6-a358-63b4e08fc309",
        "colab": {
          "base_uri": "https://localhost:8080/"
        }
      },
      "execution_count": 23,
      "outputs": [
        {
          "output_type": "stream",
          "name": "stdout",
          "text": [
            "Time cost of MyModule after tuning: 0.375 ms\n"
          ]
        }
      ]
    },
    {
      "cell_type": "code",
      "source": [
        "sch.trace.show()"
      ],
      "metadata": {
        "id": "wqKtZ8M1kuMe",
        "outputId": "2079e998-ce41-4462-c181-a1a777a13272",
        "colab": {
          "base_uri": "https://localhost:8080/",
          "height": 238
        }
      },
      "execution_count": 17,
      "outputs": [
        {
          "output_type": "stream",
          "name": "stderr",
          "text": [
            "/usr/local/lib/python3.10/dist-packages/tvm/script/highlight.py:117: UserWarning: No module named 'black'\n",
            "To print formatted TVM script, please install the formatter 'Black':\n",
            "/usr/bin/python3 -m pip install \"black==22.3.0\" --upgrade --user\n",
            "  warnings.warn(\n"
          ]
        },
        {
          "output_type": "display_data",
          "data": {
            "text/plain": [
              "<IPython.core.display.HTML object>"
            ],
            "text/html": [
              "<div class=\"highlight\" style=\"background: \"><pre style=\"line-height: 125%;\"><span></span><span style=\"color: #007979; font-style: italic\"># from tvm import tir</span>\n",
              "<span style=\"color: #008000; font-weight: bold\">def</span> <span style=\"color: #0000FF\">apply_trace</span>(sch: tir<span style=\"color: #AA22FF; font-weight: bold\">.</span>Schedule) <span style=\"color: #AA22FF; font-weight: bold\">-&gt;</span> <span style=\"color: #008000; font-weight: bold\">None</span>:\n",
              "  b0 <span style=\"color: #AA22FF; font-weight: bold\">=</span> sch<span style=\"color: #AA22FF; font-weight: bold\">.</span>get_block(name<span style=\"color: #AA22FF; font-weight: bold\">=</span><span style=\"color: #BA2121\">&quot;C&quot;</span>, func_name<span style=\"color: #AA22FF; font-weight: bold\">=</span><span style=\"color: #BA2121\">&quot;main&quot;</span>)\n",
              "  l1, l2, l3 <span style=\"color: #AA22FF; font-weight: bold\">=</span> sch<span style=\"color: #AA22FF; font-weight: bold\">.</span>get_loops(block<span style=\"color: #AA22FF; font-weight: bold\">=</span>b0)\n",
              "  v4, v5 <span style=\"color: #AA22FF; font-weight: bold\">=</span> sch<span style=\"color: #AA22FF; font-weight: bold\">.</span>sample_perfect_tile(loop<span style=\"color: #AA22FF; font-weight: bold\">=</span>l2, n<span style=\"color: #AA22FF; font-weight: bold\">=</span><span style=\"color: #008000\">2</span>, max_innermost_factor<span style=\"color: #AA22FF; font-weight: bold\">=</span><span style=\"color: #008000\">16</span>, decision<span style=\"color: #AA22FF; font-weight: bold\">=</span>[<span style=\"color: #008000\">8</span>, <span style=\"color: #008000\">16</span>])\n",
              "  l6, l7 <span style=\"color: #AA22FF; font-weight: bold\">=</span> sch<span style=\"color: #AA22FF; font-weight: bold\">.</span>split(loop<span style=\"color: #AA22FF; font-weight: bold\">=</span>l2, factors<span style=\"color: #AA22FF; font-weight: bold\">=</span>[v4, v5], preserve_unit_iters<span style=\"color: #AA22FF; font-weight: bold\">=</span><span style=\"color: #008000; font-weight: bold\">True</span>)\n",
              "  sch<span style=\"color: #AA22FF; font-weight: bold\">.</span>reorder(l1, l6, l3, l7)\n",
              "  b8 <span style=\"color: #AA22FF; font-weight: bold\">=</span> sch<span style=\"color: #AA22FF; font-weight: bold\">.</span>decompose_reduction(block<span style=\"color: #AA22FF; font-weight: bold\">=</span>b0, loop<span style=\"color: #AA22FF; font-weight: bold\">=</span>l3)\n",
              "  sch<span style=\"color: #AA22FF; font-weight: bold\">.</span>enter_postproc()\n",
              "</pre></div>\n"
            ]
          },
          "metadata": {}
        }
      ]
    },
    {
      "cell_type": "code",
      "source": [
        "sch.mod.show()"
      ],
      "metadata": {
        "id": "UgeuxHSqk3aH",
        "outputId": "9166cfe8-ccfa-4ccb-c9d2-8f15eb8bab13",
        "colab": {
          "base_uri": "https://localhost:8080/",
          "height": 530
        }
      },
      "execution_count": 18,
      "outputs": [
        {
          "output_type": "stream",
          "name": "stderr",
          "text": [
            "/usr/local/lib/python3.10/dist-packages/tvm/script/highlight.py:117: UserWarning: No module named 'black'\n",
            "To print formatted TVM script, please install the formatter 'Black':\n",
            "/usr/bin/python3 -m pip install \"black==22.3.0\" --upgrade --user\n",
            "  warnings.warn(\n"
          ]
        },
        {
          "output_type": "display_data",
          "data": {
            "text/plain": [
              "<IPython.core.display.HTML object>"
            ],
            "text/html": [
              "<div class=\"highlight\" style=\"background: \"><pre style=\"line-height: 125%;\"><span></span><span style=\"color: #007979; font-style: italic\"># from tvm.script import ir as I</span>\n",
              "<span style=\"color: #007979; font-style: italic\"># from tvm.script import tir as T</span>\n",
              "\n",
              "<span style=\"color: #AA22FF\">@I</span><span style=\"color: #AA22FF; font-weight: bold\">.</span>ir_module\n",
              "<span style=\"color: #008000; font-weight: bold\">class</span> <span style=\"color: #0000FF; font-weight: bold\">Module</span>:\n",
              "    <span style=\"color: #AA22FF\">@T</span><span style=\"color: #AA22FF; font-weight: bold\">.</span>prim_func\n",
              "    <span style=\"color: #008000; font-weight: bold\">def</span> <span style=\"color: #0000FF\">main</span>(A: T<span style=\"color: #AA22FF; font-weight: bold\">.</span>Buffer((<span style=\"color: #008000\">128</span>, <span style=\"color: #008000\">128</span>), <span style=\"color: #BA2121\">&quot;float32&quot;</span>), B: T<span style=\"color: #AA22FF; font-weight: bold\">.</span>Buffer((<span style=\"color: #008000\">128</span>, <span style=\"color: #008000\">128</span>), <span style=\"color: #BA2121\">&quot;float32&quot;</span>), C: T<span style=\"color: #AA22FF; font-weight: bold\">.</span>Buffer((<span style=\"color: #008000\">128</span>, <span style=\"color: #008000\">128</span>), <span style=\"color: #BA2121\">&quot;float32&quot;</span>)):\n",
              "        T<span style=\"color: #AA22FF; font-weight: bold\">.</span>func_attr({<span style=\"color: #BA2121\">&quot;global_symbol&quot;</span>: <span style=\"color: #BA2121\">&quot;main&quot;</span>, <span style=\"color: #BA2121\">&quot;tir.noalias&quot;</span>: T<span style=\"color: #AA22FF; font-weight: bold\">.</span>bool(<span style=\"color: #008000; font-weight: bold\">True</span>)})\n",
              "        <span style=\"color: #007979; font-style: italic\"># with T.block(&quot;root&quot;):</span>\n",
              "        <span style=\"color: #008000; font-weight: bold\">for</span> i, j_0 <span style=\"color: #008000; font-weight: bold\">in</span> T<span style=\"color: #AA22FF; font-weight: bold\">.</span>grid(<span style=\"color: #008000\">128</span>, <span style=\"color: #008000\">8</span>):\n",
              "            <span style=\"color: #008000; font-weight: bold\">for</span> j_1_init <span style=\"color: #008000; font-weight: bold\">in</span> range(<span style=\"color: #008000\">16</span>):\n",
              "                <span style=\"color: #008000; font-weight: bold\">with</span> T<span style=\"color: #AA22FF; font-weight: bold\">.</span>block(<span style=\"color: #BA2121\">&quot;C_init&quot;</span>):\n",
              "                    vi <span style=\"color: #AA22FF; font-weight: bold\">=</span> T<span style=\"color: #AA22FF; font-weight: bold\">.</span>axis<span style=\"color: #AA22FF; font-weight: bold\">.</span>spatial(<span style=\"color: #008000\">128</span>, i)\n",
              "                    vj <span style=\"color: #AA22FF; font-weight: bold\">=</span> T<span style=\"color: #AA22FF; font-weight: bold\">.</span>axis<span style=\"color: #AA22FF; font-weight: bold\">.</span>spatial(<span style=\"color: #008000\">128</span>, j_0 <span style=\"color: #AA22FF; font-weight: bold\">*</span> <span style=\"color: #008000\">16</span> <span style=\"color: #AA22FF; font-weight: bold\">+</span> j_1_init)\n",
              "                    T<span style=\"color: #AA22FF; font-weight: bold\">.</span>reads()\n",
              "                    T<span style=\"color: #AA22FF; font-weight: bold\">.</span>writes(C[vi, vj])\n",
              "                    C[vi, vj] <span style=\"color: #AA22FF; font-weight: bold\">=</span> T<span style=\"color: #AA22FF; font-weight: bold\">.</span>float32(<span style=\"color: #008000\">0</span>)\n",
              "            <span style=\"color: #008000; font-weight: bold\">for</span> k, j_1 <span style=\"color: #008000; font-weight: bold\">in</span> T<span style=\"color: #AA22FF; font-weight: bold\">.</span>grid(<span style=\"color: #008000\">128</span>, <span style=\"color: #008000\">16</span>):\n",
              "                <span style=\"color: #008000; font-weight: bold\">with</span> T<span style=\"color: #AA22FF; font-weight: bold\">.</span>block(<span style=\"color: #BA2121\">&quot;C_update&quot;</span>):\n",
              "                    vi <span style=\"color: #AA22FF; font-weight: bold\">=</span> T<span style=\"color: #AA22FF; font-weight: bold\">.</span>axis<span style=\"color: #AA22FF; font-weight: bold\">.</span>spatial(<span style=\"color: #008000\">128</span>, i)\n",
              "                    vj <span style=\"color: #AA22FF; font-weight: bold\">=</span> T<span style=\"color: #AA22FF; font-weight: bold\">.</span>axis<span style=\"color: #AA22FF; font-weight: bold\">.</span>spatial(<span style=\"color: #008000\">128</span>, j_0 <span style=\"color: #AA22FF; font-weight: bold\">*</span> <span style=\"color: #008000\">16</span> <span style=\"color: #AA22FF; font-weight: bold\">+</span> j_1)\n",
              "                    vk <span style=\"color: #AA22FF; font-weight: bold\">=</span> T<span style=\"color: #AA22FF; font-weight: bold\">.</span>axis<span style=\"color: #AA22FF; font-weight: bold\">.</span>reduce(<span style=\"color: #008000\">128</span>, k)\n",
              "                    T<span style=\"color: #AA22FF; font-weight: bold\">.</span>reads(C[vi, vj], A[vi, vk], B[vk, vj])\n",
              "                    T<span style=\"color: #AA22FF; font-weight: bold\">.</span>writes(C[vi, vj])\n",
              "                    C[vi, vj] <span style=\"color: #AA22FF; font-weight: bold\">=</span> C[vi, vj] <span style=\"color: #AA22FF; font-weight: bold\">+</span> A[vi, vk] <span style=\"color: #AA22FF; font-weight: bold\">*</span> B[vk, vj]\n",
              "</pre></div>\n"
            ]
          },
          "metadata": {}
        }
      ]
    },
    {
      "cell_type": "markdown",
      "source": [
        "### Summary\n",
        "\n",
        "In both search, split factor of [8, 16] offers the best speedup. (leveraging cache)"
      ],
      "metadata": {
        "id": "yWhG4zkEk741"
      }
    },
    {
      "cell_type": "markdown",
      "source": [
        "# Auto Scheduling\n",
        "\n",
        "Last section, we specified the search space to be\n",
        "`space=ms.space_generator.ScheduleFn(stochastic_schdule_mm)`.\n",
        "\n",
        "`meta_schedule` comes with its own built-in set of generic stochastic transformations that work for a wide range of TensorIRs."
      ],
      "metadata": {
        "id": "i0ZsqB4flc6r"
      }
    },
    {
      "cell_type": "code",
      "source": [
        "database = ms.tune_tir(\n",
        "    mod=MyModule,\n",
        "    target=\"llvm --num-cores=1\",\n",
        "    max_trials_global=64,\n",
        "    num_trials_per_iter=64,\n",
        "    # space=ms.space_generator.ScheduleFn(stochastic_schdule_mm),\n",
        "    work_dir=\"./turn_tmp\",\n",
        "    task_name=\"main\"\n",
        ")\n",
        "\n",
        "sch = ms.tir_integration.compile_tir(database, MyModule, \"llvm --num-cores=1\")"
      ],
      "metadata": {
        "id": "mwoqyETOmDk1",
        "outputId": "433051a5-070a-4322-b78c-723960100641",
        "colab": {
          "base_uri": "https://localhost:8080/"
        }
      },
      "execution_count": 19,
      "outputs": [
        {
          "output_type": "stream",
          "name": "stdout",
          "text": [
            "2023-05-04 11:50:25 [INFO] Logging directory: ./turn_tmp/logs\n",
            "2023-05-04 11:50:25 [INFO] LocalBuilder: max_workers = 1\n",
            "2023-05-04 11:50:26 [INFO] LocalRunner: max_workers = 1\n",
            "2023-05-04 11:50:28 [INFO] [task_scheduler.cc:159] Initializing Task #0: \"main\"\n",
            "2023-05-04 11:50:28 [INFO] [task_scheduler.cc:180] TaskScheduler picks Task #0: \"main\"\n",
            "2023-05-04 11:50:39 [INFO] [task_scheduler.cc:193] Sending 64 sample(s) to builder\n",
            "2023-05-04 11:52:27 [INFO] [task_scheduler.cc:195] Sending 64 sample(s) to runner\n",
            "2023-05-04 11:52:44 [DEBUG] XGB iter   0: tr-p-rmse: 0.469479\ttr-a-peak@32: 1.000000\ttr-rmse: 0.258036\ttr-rmse: 0.258036\n",
            "2023-05-04 11:52:44 [DEBUG] XGB iter  25: tr-p-rmse: 0.048208\ttr-a-peak@32: 0.999594\ttr-rmse: 0.298526\ttr-rmse: 0.298526\n",
            "2023-05-04 11:52:44 [DEBUG] XGB iter  50: tr-p-rmse: 0.047940\ttr-a-peak@32: 0.999594\ttr-rmse: 0.298858\ttr-rmse: 0.298858\n",
            "2023-05-04 11:52:44 [DEBUG] XGB iter  75: tr-p-rmse: 0.047940\ttr-a-peak@32: 0.999594\ttr-rmse: 0.298858\ttr-rmse: 0.298858\n",
            "2023-05-04 11:52:44 [DEBUG] XGB stopped. Best iteration: [42] tr-p-rmse:0.04794\ttr-a-peak@32:0.99959\ttr-rmse:0.29886\ttr-rmse:0.29886 \n",
            "2023-05-04 11:52:44 [INFO] [task_scheduler.cc:237] [Updated] Task #0: \"main\"\n",
            "2023-05-04 11:52:44 [INFO] [task_scheduler.cc:320] \n",
            " ID | Name |    FLOP | Weight | Speed (GFLOPS) | Latency (us) | Weighted Latency (us) | Trials | Done \n",
            "------------------------------------------------------------------------------------------------------\n",
            "  0 | main | 4194304 |      1 |        17.6737 |     237.3185 |              237.3185 |     64 |      \n",
            "------------------------------------------------------------------------------------------------------\n",
            "Total trials: 64\n",
            "Total latency (us): 237.318\n",
            "\n",
            "2023-05-04 11:52:44 [INFO] [task_scheduler.cc:260] Task #0 has finished. Remaining task(s): 0\n",
            "2023-05-04 11:52:44 [INFO] [task_scheduler.cc:320] \n",
            " ID | Name |    FLOP | Weight | Speed (GFLOPS) | Latency (us) | Weighted Latency (us) | Trials | Done \n",
            "------------------------------------------------------------------------------------------------------\n",
            "  0 | main | 4194304 |      1 |        17.6737 |     237.3185 |              237.3185 |     64 |    Y \n",
            "------------------------------------------------------------------------------------------------------\n",
            "Total trials: 64\n",
            "Total latency (us): 237.318\n",
            "\n"
          ]
        }
      ]
    },
    {
      "cell_type": "code",
      "source": [
        "# faster result after auto tuning\n",
        "lib = tvm.build(sch.mod, target=\"llvm\")\n",
        "f_timer_after = lib.time_evaluator(\"main\", tvm.cpu())\n",
        "print(\"Time cost of MyModule after AUTO tuning: %.3f ms\" % (f_timer_after(a_tvm, b_tvm, c_tvm).mean * 1000))"
      ],
      "metadata": {
        "id": "9AkBhaS5nDDP",
        "outputId": "30e9c357-5df5-4679-e172-2bfb49d2d3ca",
        "colab": {
          "base_uri": "https://localhost:8080/"
        }
      },
      "execution_count": 25,
      "outputs": [
        {
          "output_type": "stream",
          "name": "stdout",
          "text": [
            "Time cost of MyModule after AUTO tuning: 0.263 ms\n"
          ]
        }
      ]
    },
    {
      "cell_type": "code",
      "source": [
        "sch.trace.show() # much complex transformation"
      ],
      "metadata": {
        "id": "VVyJJYMiniWb",
        "outputId": "f4d4c77e-fd12-4dd2-84e7-c70a166a1fd8",
        "colab": {
          "base_uri": "https://localhost:8080/",
          "height": 697
        }
      },
      "execution_count": 26,
      "outputs": [
        {
          "output_type": "stream",
          "name": "stderr",
          "text": [
            "/usr/local/lib/python3.10/dist-packages/tvm/script/highlight.py:117: UserWarning: No module named 'black'\n",
            "To print formatted TVM script, please install the formatter 'Black':\n",
            "/usr/bin/python3 -m pip install \"black==22.3.0\" --upgrade --user\n",
            "  warnings.warn(\n"
          ]
        },
        {
          "output_type": "display_data",
          "data": {
            "text/plain": [
              "<IPython.core.display.HTML object>"
            ],
            "text/html": [
              "<div class=\"highlight\" style=\"background: \"><pre style=\"line-height: 125%;\"><span></span><span style=\"color: #007979; font-style: italic\"># from tvm import tir</span>\n",
              "<span style=\"color: #008000; font-weight: bold\">def</span> <span style=\"color: #0000FF\">apply_trace</span>(sch: tir<span style=\"color: #AA22FF; font-weight: bold\">.</span>Schedule) <span style=\"color: #AA22FF; font-weight: bold\">-&gt;</span> <span style=\"color: #008000; font-weight: bold\">None</span>:\n",
              "  b0 <span style=\"color: #AA22FF; font-weight: bold\">=</span> sch<span style=\"color: #AA22FF; font-weight: bold\">.</span>get_block(name<span style=\"color: #AA22FF; font-weight: bold\">=</span><span style=\"color: #BA2121\">&quot;C&quot;</span>, func_name<span style=\"color: #AA22FF; font-weight: bold\">=</span><span style=\"color: #BA2121\">&quot;main&quot;</span>)\n",
              "  b1 <span style=\"color: #AA22FF; font-weight: bold\">=</span> sch<span style=\"color: #AA22FF; font-weight: bold\">.</span>get_block(name<span style=\"color: #AA22FF; font-weight: bold\">=</span><span style=\"color: #BA2121\">&quot;root&quot;</span>, func_name<span style=\"color: #AA22FF; font-weight: bold\">=</span><span style=\"color: #BA2121\">&quot;main&quot;</span>)\n",
              "  sch<span style=\"color: #AA22FF; font-weight: bold\">.</span>annotate(block_or_loop<span style=\"color: #AA22FF; font-weight: bold\">=</span>b0, ann_key<span style=\"color: #AA22FF; font-weight: bold\">=</span><span style=\"color: #BA2121\">&quot;meta_schedule.tiling_structure&quot;</span>, ann_val<span style=\"color: #AA22FF; font-weight: bold\">=</span><span style=\"color: #BA2121\">&quot;SSRSRS&quot;</span>)\n",
              "  l2, l3, l4 <span style=\"color: #AA22FF; font-weight: bold\">=</span> sch<span style=\"color: #AA22FF; font-weight: bold\">.</span>get_loops(block<span style=\"color: #AA22FF; font-weight: bold\">=</span>b0)\n",
              "  v5, v6, v7, v8 <span style=\"color: #AA22FF; font-weight: bold\">=</span> sch<span style=\"color: #AA22FF; font-weight: bold\">.</span>sample_perfect_tile(loop<span style=\"color: #AA22FF; font-weight: bold\">=</span>l2, n<span style=\"color: #AA22FF; font-weight: bold\">=</span><span style=\"color: #008000\">4</span>, max_innermost_factor<span style=\"color: #AA22FF; font-weight: bold\">=</span><span style=\"color: #008000\">64</span>, decision<span style=\"color: #AA22FF; font-weight: bold\">=</span>[<span style=\"color: #008000\">1</span>, <span style=\"color: #008000\">4</span>, <span style=\"color: #008000\">32</span>, <span style=\"color: #008000\">1</span>])\n",
              "  l9, l10, l11, l12 <span style=\"color: #AA22FF; font-weight: bold\">=</span> sch<span style=\"color: #AA22FF; font-weight: bold\">.</span>split(loop<span style=\"color: #AA22FF; font-weight: bold\">=</span>l2, factors<span style=\"color: #AA22FF; font-weight: bold\">=</span>[v5, v6, v7, v8], preserve_unit_iters<span style=\"color: #AA22FF; font-weight: bold\">=</span><span style=\"color: #008000; font-weight: bold\">True</span>)\n",
              "  v13, v14, v15, v16 <span style=\"color: #AA22FF; font-weight: bold\">=</span> sch<span style=\"color: #AA22FF; font-weight: bold\">.</span>sample_perfect_tile(loop<span style=\"color: #AA22FF; font-weight: bold\">=</span>l3, n<span style=\"color: #AA22FF; font-weight: bold\">=</span><span style=\"color: #008000\">4</span>, max_innermost_factor<span style=\"color: #AA22FF; font-weight: bold\">=</span><span style=\"color: #008000\">64</span>, decision<span style=\"color: #AA22FF; font-weight: bold\">=</span>[<span style=\"color: #008000\">1</span>, <span style=\"color: #008000\">1</span>, <span style=\"color: #008000\">8</span>, <span style=\"color: #008000\">16</span>])\n",
              "  l17, l18, l19, l20 <span style=\"color: #AA22FF; font-weight: bold\">=</span> sch<span style=\"color: #AA22FF; font-weight: bold\">.</span>split(loop<span style=\"color: #AA22FF; font-weight: bold\">=</span>l3, factors<span style=\"color: #AA22FF; font-weight: bold\">=</span>[v13, v14, v15, v16], preserve_unit_iters<span style=\"color: #AA22FF; font-weight: bold\">=</span><span style=\"color: #008000; font-weight: bold\">True</span>)\n",
              "  v21, v22 <span style=\"color: #AA22FF; font-weight: bold\">=</span> sch<span style=\"color: #AA22FF; font-weight: bold\">.</span>sample_perfect_tile(loop<span style=\"color: #AA22FF; font-weight: bold\">=</span>l4, n<span style=\"color: #AA22FF; font-weight: bold\">=</span><span style=\"color: #008000\">2</span>, max_innermost_factor<span style=\"color: #AA22FF; font-weight: bold\">=</span><span style=\"color: #008000\">64</span>, decision<span style=\"color: #AA22FF; font-weight: bold\">=</span>[<span style=\"color: #008000\">16</span>, <span style=\"color: #008000\">8</span>])\n",
              "  l23, l24 <span style=\"color: #AA22FF; font-weight: bold\">=</span> sch<span style=\"color: #AA22FF; font-weight: bold\">.</span>split(loop<span style=\"color: #AA22FF; font-weight: bold\">=</span>l4, factors<span style=\"color: #AA22FF; font-weight: bold\">=</span>[v21, v22], preserve_unit_iters<span style=\"color: #AA22FF; font-weight: bold\">=</span><span style=\"color: #008000; font-weight: bold\">True</span>)\n",
              "  sch<span style=\"color: #AA22FF; font-weight: bold\">.</span>reorder(l9, l17, l10, l18, l23, l11, l19, l24, l12, l20)\n",
              "  b25 <span style=\"color: #AA22FF; font-weight: bold\">=</span> sch<span style=\"color: #AA22FF; font-weight: bold\">.</span>cache_write(block<span style=\"color: #AA22FF; font-weight: bold\">=</span>b0, write_buffer_index<span style=\"color: #AA22FF; font-weight: bold\">=</span><span style=\"color: #008000\">0</span>, storage_scope<span style=\"color: #AA22FF; font-weight: bold\">=</span><span style=\"color: #BA2121\">&quot;global&quot;</span>)\n",
              "  sch<span style=\"color: #AA22FF; font-weight: bold\">.</span>reverse_compute_at(block<span style=\"color: #AA22FF; font-weight: bold\">=</span>b25, loop<span style=\"color: #AA22FF; font-weight: bold\">=</span>l18, preserve_unit_loops<span style=\"color: #AA22FF; font-weight: bold\">=</span><span style=\"color: #008000; font-weight: bold\">True</span>, index<span style=\"color: #AA22FF; font-weight: bold\">=-</span><span style=\"color: #008000\">1</span>)\n",
              "  sch<span style=\"color: #AA22FF; font-weight: bold\">.</span>annotate(block_or_loop<span style=\"color: #AA22FF; font-weight: bold\">=</span>b1, ann_key<span style=\"color: #AA22FF; font-weight: bold\">=</span><span style=\"color: #BA2121\">&quot;meta_schedule.parallel&quot;</span>, ann_val<span style=\"color: #AA22FF; font-weight: bold\">=</span><span style=\"color: #008000\">16</span>)\n",
              "  sch<span style=\"color: #AA22FF; font-weight: bold\">.</span>annotate(block_or_loop<span style=\"color: #AA22FF; font-weight: bold\">=</span>b1, ann_key<span style=\"color: #AA22FF; font-weight: bold\">=</span><span style=\"color: #BA2121\">&quot;meta_schedule.vectorize&quot;</span>, ann_val<span style=\"color: #AA22FF; font-weight: bold\">=</span><span style=\"color: #008000\">64</span>)\n",
              "  v26 <span style=\"color: #AA22FF; font-weight: bold\">=</span> sch<span style=\"color: #AA22FF; font-weight: bold\">.</span>sample_categorical(candidates<span style=\"color: #AA22FF; font-weight: bold\">=</span>[<span style=\"color: #008000\">0</span>, <span style=\"color: #008000\">16</span>, <span style=\"color: #008000\">64</span>, <span style=\"color: #008000\">512</span>], probs<span style=\"color: #AA22FF; font-weight: bold\">=</span>[<span style=\"color: #008000\">0.25</span>, <span style=\"color: #008000\">0.25</span>, <span style=\"color: #008000\">0.25</span>, <span style=\"color: #008000\">0.25</span>], decision<span style=\"color: #AA22FF; font-weight: bold\">=</span><span style=\"color: #008000\">0</span>)\n",
              "  sch<span style=\"color: #AA22FF; font-weight: bold\">.</span>annotate(block_or_loop<span style=\"color: #AA22FF; font-weight: bold\">=</span>b1, ann_key<span style=\"color: #AA22FF; font-weight: bold\">=</span><span style=\"color: #BA2121\">&quot;meta_schedule.unroll_explicit&quot;</span>, ann_val<span style=\"color: #AA22FF; font-weight: bold\">=</span>v26)\n",
              "  sch<span style=\"color: #AA22FF; font-weight: bold\">.</span>enter_postproc()\n",
              "  b27 <span style=\"color: #AA22FF; font-weight: bold\">=</span> sch<span style=\"color: #AA22FF; font-weight: bold\">.</span>get_block(name<span style=\"color: #AA22FF; font-weight: bold\">=</span><span style=\"color: #BA2121\">&quot;root&quot;</span>, func_name<span style=\"color: #AA22FF; font-weight: bold\">=</span><span style=\"color: #BA2121\">&quot;main&quot;</span>)\n",
              "  sch<span style=\"color: #AA22FF; font-weight: bold\">.</span>unannotate(block_or_loop<span style=\"color: #AA22FF; font-weight: bold\">=</span>b27, ann_key<span style=\"color: #AA22FF; font-weight: bold\">=</span><span style=\"color: #BA2121\">&quot;meta_schedule.parallel&quot;</span>)\n",
              "  sch<span style=\"color: #AA22FF; font-weight: bold\">.</span>unannotate(block_or_loop<span style=\"color: #AA22FF; font-weight: bold\">=</span>b27, ann_key<span style=\"color: #AA22FF; font-weight: bold\">=</span><span style=\"color: #BA2121\">&quot;meta_schedule.vectorize&quot;</span>)\n",
              "  sch<span style=\"color: #AA22FF; font-weight: bold\">.</span>unannotate(block_or_loop<span style=\"color: #AA22FF; font-weight: bold\">=</span>b27, ann_key<span style=\"color: #AA22FF; font-weight: bold\">=</span><span style=\"color: #BA2121\">&quot;meta_schedule.unroll_explicit&quot;</span>)\n",
              "  b28, b29 <span style=\"color: #AA22FF; font-weight: bold\">=</span> sch<span style=\"color: #AA22FF; font-weight: bold\">.</span>get_child_blocks(b27)\n",
              "  l30, l31, l32, l33, l34, l35, l36, l37, l38, l39 <span style=\"color: #AA22FF; font-weight: bold\">=</span> sch<span style=\"color: #AA22FF; font-weight: bold\">.</span>get_loops(block<span style=\"color: #AA22FF; font-weight: bold\">=</span>b28)\n",
              "  l40 <span style=\"color: #AA22FF; font-weight: bold\">=</span> sch<span style=\"color: #AA22FF; font-weight: bold\">.</span>fuse(l30, l31, l32, l33, preserve_unit_iters<span style=\"color: #AA22FF; font-weight: bold\">=</span><span style=\"color: #008000; font-weight: bold\">True</span>)\n",
              "  sch<span style=\"color: #AA22FF; font-weight: bold\">.</span>parallel(loop<span style=\"color: #AA22FF; font-weight: bold\">=</span>l40)\n",
              "  l41 <span style=\"color: #AA22FF; font-weight: bold\">=</span> sch<span style=\"color: #AA22FF; font-weight: bold\">.</span>fuse(l39, preserve_unit_iters<span style=\"color: #AA22FF; font-weight: bold\">=</span><span style=\"color: #008000; font-weight: bold\">True</span>)\n",
              "  sch<span style=\"color: #AA22FF; font-weight: bold\">.</span>vectorize(loop<span style=\"color: #AA22FF; font-weight: bold\">=</span>l41)\n",
              "  l42, l43, l44 <span style=\"color: #AA22FF; font-weight: bold\">=</span> sch<span style=\"color: #AA22FF; font-weight: bold\">.</span>get_loops(block<span style=\"color: #AA22FF; font-weight: bold\">=</span>b29)\n",
              "  l45 <span style=\"color: #AA22FF; font-weight: bold\">=</span> sch<span style=\"color: #AA22FF; font-weight: bold\">.</span>fuse(l42, preserve_unit_iters<span style=\"color: #AA22FF; font-weight: bold\">=</span><span style=\"color: #008000; font-weight: bold\">True</span>)\n",
              "  sch<span style=\"color: #AA22FF; font-weight: bold\">.</span>parallel(loop<span style=\"color: #AA22FF; font-weight: bold\">=</span>l45)\n",
              "  b46 <span style=\"color: #AA22FF; font-weight: bold\">=</span> sch<span style=\"color: #AA22FF; font-weight: bold\">.</span>get_block(name<span style=\"color: #AA22FF; font-weight: bold\">=</span><span style=\"color: #BA2121\">&quot;C&quot;</span>, func_name<span style=\"color: #AA22FF; font-weight: bold\">=</span><span style=\"color: #BA2121\">&quot;main&quot;</span>)\n",
              "  l47, l48, l49, l50, l51, l52, l53 <span style=\"color: #AA22FF; font-weight: bold\">=</span> sch<span style=\"color: #AA22FF; font-weight: bold\">.</span>get_loops(block<span style=\"color: #AA22FF; font-weight: bold\">=</span>b46)\n",
              "  b54 <span style=\"color: #AA22FF; font-weight: bold\">=</span> sch<span style=\"color: #AA22FF; font-weight: bold\">.</span>decompose_reduction(block<span style=\"color: #AA22FF; font-weight: bold\">=</span>b46, loop<span style=\"color: #AA22FF; font-weight: bold\">=</span>l48)\n",
              "</pre></div>\n"
            ]
          },
          "metadata": {}
        }
      ]
    },
    {
      "cell_type": "code",
      "source": [
        "sch.mod.show()"
      ],
      "metadata": {
        "id": "KrfYBWP1no--",
        "outputId": "63096ff4-b6d3-42f7-cedd-080ddf842406",
        "colab": {
          "base_uri": "https://localhost:8080/",
          "height": 734
        }
      },
      "execution_count": 27,
      "outputs": [
        {
          "output_type": "stream",
          "name": "stderr",
          "text": [
            "/usr/local/lib/python3.10/dist-packages/tvm/script/highlight.py:117: UserWarning: No module named 'black'\n",
            "To print formatted TVM script, please install the formatter 'Black':\n",
            "/usr/bin/python3 -m pip install \"black==22.3.0\" --upgrade --user\n",
            "  warnings.warn(\n"
          ]
        },
        {
          "output_type": "display_data",
          "data": {
            "text/plain": [
              "<IPython.core.display.HTML object>"
            ],
            "text/html": [
              "<div class=\"highlight\" style=\"background: \"><pre style=\"line-height: 125%;\"><span></span><span style=\"color: #007979; font-style: italic\"># from tvm.script import ir as I</span>\n",
              "<span style=\"color: #007979; font-style: italic\"># from tvm.script import tir as T</span>\n",
              "\n",
              "<span style=\"color: #AA22FF\">@I</span><span style=\"color: #AA22FF; font-weight: bold\">.</span>ir_module\n",
              "<span style=\"color: #008000; font-weight: bold\">class</span> <span style=\"color: #0000FF; font-weight: bold\">Module</span>:\n",
              "    <span style=\"color: #AA22FF\">@T</span><span style=\"color: #AA22FF; font-weight: bold\">.</span>prim_func\n",
              "    <span style=\"color: #008000; font-weight: bold\">def</span> <span style=\"color: #0000FF\">main</span>(A: T<span style=\"color: #AA22FF; font-weight: bold\">.</span>Buffer((<span style=\"color: #008000\">128</span>, <span style=\"color: #008000\">128</span>), <span style=\"color: #BA2121\">&quot;float32&quot;</span>), B: T<span style=\"color: #AA22FF; font-weight: bold\">.</span>Buffer((<span style=\"color: #008000\">128</span>, <span style=\"color: #008000\">128</span>), <span style=\"color: #BA2121\">&quot;float32&quot;</span>), C: T<span style=\"color: #AA22FF; font-weight: bold\">.</span>Buffer((<span style=\"color: #008000\">128</span>, <span style=\"color: #008000\">128</span>), <span style=\"color: #BA2121\">&quot;float32&quot;</span>)):\n",
              "        T<span style=\"color: #AA22FF; font-weight: bold\">.</span>func_attr({<span style=\"color: #BA2121\">&quot;global_symbol&quot;</span>: <span style=\"color: #BA2121\">&quot;main&quot;</span>, <span style=\"color: #BA2121\">&quot;tir.noalias&quot;</span>: T<span style=\"color: #AA22FF; font-weight: bold\">.</span>bool(<span style=\"color: #008000; font-weight: bold\">True</span>)})\n",
              "        <span style=\"color: #007979; font-style: italic\"># with T.block(&quot;root&quot;):</span>\n",
              "        C_global <span style=\"color: #AA22FF; font-weight: bold\">=</span> T<span style=\"color: #AA22FF; font-weight: bold\">.</span>alloc_buffer((<span style=\"color: #008000\">128</span>, <span style=\"color: #008000\">128</span>))\n",
              "        <span style=\"color: #008000; font-weight: bold\">for</span> i_0_j_0_i_1_j_1_fused_fused <span style=\"color: #008000; font-weight: bold\">in</span> T<span style=\"color: #AA22FF; font-weight: bold\">.</span>parallel(<span style=\"color: #008000\">4</span>):\n",
              "            <span style=\"color: #008000; font-weight: bold\">for</span> i_2_init, j_2_init, i_3_init <span style=\"color: #008000; font-weight: bold\">in</span> T<span style=\"color: #AA22FF; font-weight: bold\">.</span>grid(<span style=\"color: #008000\">32</span>, <span style=\"color: #008000\">8</span>, <span style=\"color: #008000\">1</span>):\n",
              "                <span style=\"color: #008000; font-weight: bold\">for</span> j_3_fused_init <span style=\"color: #008000; font-weight: bold\">in</span> T<span style=\"color: #AA22FF; font-weight: bold\">.</span>vectorized(<span style=\"color: #008000\">16</span>):\n",
              "                    <span style=\"color: #008000; font-weight: bold\">with</span> T<span style=\"color: #AA22FF; font-weight: bold\">.</span>block(<span style=\"color: #BA2121\">&quot;C_init&quot;</span>):\n",
              "                        vi <span style=\"color: #AA22FF; font-weight: bold\">=</span> T<span style=\"color: #AA22FF; font-weight: bold\">.</span>axis<span style=\"color: #AA22FF; font-weight: bold\">.</span>spatial(<span style=\"color: #008000\">128</span>, i_0_j_0_i_1_j_1_fused_fused <span style=\"color: #AA22FF; font-weight: bold\">*</span> <span style=\"color: #008000\">32</span> <span style=\"color: #AA22FF; font-weight: bold\">+</span> i_2_init <span style=\"color: #AA22FF; font-weight: bold\">+</span> i_3_init)\n",
              "                        vj <span style=\"color: #AA22FF; font-weight: bold\">=</span> T<span style=\"color: #AA22FF; font-weight: bold\">.</span>axis<span style=\"color: #AA22FF; font-weight: bold\">.</span>spatial(<span style=\"color: #008000\">128</span>, j_2_init <span style=\"color: #AA22FF; font-weight: bold\">*</span> <span style=\"color: #008000\">16</span> <span style=\"color: #AA22FF; font-weight: bold\">+</span> j_3_fused_init)\n",
              "                        T<span style=\"color: #AA22FF; font-weight: bold\">.</span>reads()\n",
              "                        T<span style=\"color: #AA22FF; font-weight: bold\">.</span>writes(C_global[vi, vj])\n",
              "                        T<span style=\"color: #AA22FF; font-weight: bold\">.</span>block_attr({<span style=\"color: #BA2121\">&quot;meta_schedule.tiling_structure&quot;</span>: <span style=\"color: #BA2121\">&quot;SSRSRS&quot;</span>})\n",
              "                        C_global[vi, vj] <span style=\"color: #AA22FF; font-weight: bold\">=</span> T<span style=\"color: #AA22FF; font-weight: bold\">.</span>float32(<span style=\"color: #008000\">0</span>)\n",
              "            <span style=\"color: #008000; font-weight: bold\">for</span> k_0, i_2, j_2, k_1, i_3 <span style=\"color: #008000; font-weight: bold\">in</span> T<span style=\"color: #AA22FF; font-weight: bold\">.</span>grid(<span style=\"color: #008000\">16</span>, <span style=\"color: #008000\">32</span>, <span style=\"color: #008000\">8</span>, <span style=\"color: #008000\">8</span>, <span style=\"color: #008000\">1</span>):\n",
              "                <span style=\"color: #008000; font-weight: bold\">for</span> j_3_fused <span style=\"color: #008000; font-weight: bold\">in</span> T<span style=\"color: #AA22FF; font-weight: bold\">.</span>vectorized(<span style=\"color: #008000\">16</span>):\n",
              "                    <span style=\"color: #008000; font-weight: bold\">with</span> T<span style=\"color: #AA22FF; font-weight: bold\">.</span>block(<span style=\"color: #BA2121\">&quot;C_update&quot;</span>):\n",
              "                        vi <span style=\"color: #AA22FF; font-weight: bold\">=</span> T<span style=\"color: #AA22FF; font-weight: bold\">.</span>axis<span style=\"color: #AA22FF; font-weight: bold\">.</span>spatial(<span style=\"color: #008000\">128</span>, i_0_j_0_i_1_j_1_fused_fused <span style=\"color: #AA22FF; font-weight: bold\">*</span> <span style=\"color: #008000\">32</span> <span style=\"color: #AA22FF; font-weight: bold\">+</span> i_2 <span style=\"color: #AA22FF; font-weight: bold\">+</span> i_3)\n",
              "                        vj <span style=\"color: #AA22FF; font-weight: bold\">=</span> T<span style=\"color: #AA22FF; font-weight: bold\">.</span>axis<span style=\"color: #AA22FF; font-weight: bold\">.</span>spatial(<span style=\"color: #008000\">128</span>, j_2 <span style=\"color: #AA22FF; font-weight: bold\">*</span> <span style=\"color: #008000\">16</span> <span style=\"color: #AA22FF; font-weight: bold\">+</span> j_3_fused)\n",
              "                        vk <span style=\"color: #AA22FF; font-weight: bold\">=</span> T<span style=\"color: #AA22FF; font-weight: bold\">.</span>axis<span style=\"color: #AA22FF; font-weight: bold\">.</span>reduce(<span style=\"color: #008000\">128</span>, k_0 <span style=\"color: #AA22FF; font-weight: bold\">*</span> <span style=\"color: #008000\">8</span> <span style=\"color: #AA22FF; font-weight: bold\">+</span> k_1)\n",
              "                        T<span style=\"color: #AA22FF; font-weight: bold\">.</span>reads(C_global[vi, vj], A[vi, vk], B[vk, vj])\n",
              "                        T<span style=\"color: #AA22FF; font-weight: bold\">.</span>writes(C_global[vi, vj])\n",
              "                        T<span style=\"color: #AA22FF; font-weight: bold\">.</span>block_attr({<span style=\"color: #BA2121\">&quot;meta_schedule.tiling_structure&quot;</span>: <span style=\"color: #BA2121\">&quot;SSRSRS&quot;</span>})\n",
              "                        C_global[vi, vj] <span style=\"color: #AA22FF; font-weight: bold\">=</span> C_global[vi, vj] <span style=\"color: #AA22FF; font-weight: bold\">+</span> A[vi, vk] <span style=\"color: #AA22FF; font-weight: bold\">*</span> B[vk, vj]\n",
              "            <span style=\"color: #008000; font-weight: bold\">for</span> ax0, ax1 <span style=\"color: #008000; font-weight: bold\">in</span> T<span style=\"color: #AA22FF; font-weight: bold\">.</span>grid(<span style=\"color: #008000\">32</span>, <span style=\"color: #008000\">128</span>):\n",
              "                <span style=\"color: #008000; font-weight: bold\">with</span> T<span style=\"color: #AA22FF; font-weight: bold\">.</span>block(<span style=\"color: #BA2121\">&quot;C_global&quot;</span>):\n",
              "                    v0 <span style=\"color: #AA22FF; font-weight: bold\">=</span> T<span style=\"color: #AA22FF; font-weight: bold\">.</span>axis<span style=\"color: #AA22FF; font-weight: bold\">.</span>spatial(<span style=\"color: #008000\">128</span>, i_0_j_0_i_1_j_1_fused_fused <span style=\"color: #AA22FF; font-weight: bold\">*</span> <span style=\"color: #008000\">32</span> <span style=\"color: #AA22FF; font-weight: bold\">+</span> ax0)\n",
              "                    v1 <span style=\"color: #AA22FF; font-weight: bold\">=</span> T<span style=\"color: #AA22FF; font-weight: bold\">.</span>axis<span style=\"color: #AA22FF; font-weight: bold\">.</span>spatial(<span style=\"color: #008000\">128</span>, ax1)\n",
              "                    T<span style=\"color: #AA22FF; font-weight: bold\">.</span>reads(C_global[v0, v1])\n",
              "                    T<span style=\"color: #AA22FF; font-weight: bold\">.</span>writes(C[v0, v1])\n",
              "                    C[v0, v1] <span style=\"color: #AA22FF; font-weight: bold\">=</span> C_global[v0, v1]\n",
              "</pre></div>\n"
            ]
          },
          "metadata": {}
        }
      ]
    },
    {
      "cell_type": "markdown",
      "source": [
        "### Summary\n",
        "1. stochastic schedule form a search space of possible programs\n",
        "2. meta schedule (`tune_tir`) searches within a space\n",
        "3. meta schedule offers generic builtin search space"
      ],
      "metadata": {
        "id": "eLnLfyK4n5KX"
      }
    }
  ]
}