{
  "nbformat": 4,
  "nbformat_minor": 0,
  "metadata": {
    "colab": {
      "provenance": [],
      "authorship_tag": "ABX9TyMGGrt24v9Wn/wlpnGEuth8",
      "include_colab_link": true
    },
    "kernelspec": {
      "name": "python3",
      "display_name": "Python 3"
    },
    "language_info": {
      "name": "python"
    }
  },
  "cells": [
    {
      "cell_type": "markdown",
      "metadata": {
        "id": "view-in-github",
        "colab_type": "text"
      },
      "source": [
        "<a href=\"https://colab.research.google.com/github/XueyanZhang/MachineLearningCompilation/blob/master/MLC_TensorIR_Excercises.ipynb\" target=\"_parent\"><img src=\"https://colab.research.google.com/assets/colab-badge.svg\" alt=\"Open In Colab\"/></a>"
      ]
    },
    {
      "cell_type": "code",
      "execution_count": 27,
      "metadata": {
        "colab": {
          "base_uri": "https://localhost:8080/"
        },
        "id": "NPx9N196HxHX",
        "outputId": "0b4539c7-e202-4f92-c6e5-75af39e4beda"
      },
      "outputs": [
        {
          "output_type": "stream",
          "name": "stdout",
          "text": [
            "Looking in indexes: https://pypi.org/simple, https://us-python.pkg.dev/colab-wheels/public/simple/\n",
            "Looking in links: https://mlc.ai/wheels\n",
            "Requirement already satisfied: mlc-ai-nightly in /usr/local/lib/python3.9/dist-packages (0.12.dev819+g209d99f09)\n",
            "Requirement already satisfied: scipy in /usr/local/lib/python3.9/dist-packages (from mlc-ai-nightly) (1.10.1)\n",
            "Requirement already satisfied: decorator in /usr/local/lib/python3.9/dist-packages (from mlc-ai-nightly) (4.4.2)\n",
            "Requirement already satisfied: psutil in /usr/local/lib/python3.9/dist-packages (from mlc-ai-nightly) (5.9.5)\n",
            "Requirement already satisfied: cloudpickle in /usr/local/lib/python3.9/dist-packages (from mlc-ai-nightly) (2.2.1)\n",
            "Requirement already satisfied: tornado in /usr/local/lib/python3.9/dist-packages (from mlc-ai-nightly) (6.2)\n",
            "Requirement already satisfied: numpy<=1.23 in /usr/local/lib/python3.9/dist-packages (from mlc-ai-nightly) (1.22.4)\n",
            "Requirement already satisfied: attrs in /usr/local/lib/python3.9/dist-packages (from mlc-ai-nightly) (23.1.0)\n"
          ]
        }
      ],
      "source": [
        "!python3 -m  pip install mlc-ai-nightly -f https://mlc.ai/wheels\n",
        "\n",
        "import numpy as np\n",
        "import tvm\n",
        "from tvm.ir.module import IRModule\n",
        "from tvm.script import tir as T"
      ]
    },
    {
      "cell_type": "markdown",
      "source": [
        "# Write Tensor IR"
      ],
      "metadata": {
        "id": "83WuIMg0JFbp"
      }
    },
    {
      "cell_type": "markdown",
      "source": [
        "## 1. element-wise add\n",
        "\n"
      ],
      "metadata": {
        "id": "9zQ_GSvaJdpJ"
      }
    },
    {
      "cell_type": "markdown",
      "source": [
        "### high-level numpy addition"
      ],
      "metadata": {
        "id": "FE_VIyAmLxK6"
      }
    },
    {
      "cell_type": "code",
      "source": [
        "a = np.arange(16).reshape(4, 4)\n",
        "b = np.arange(16, 0, -1).reshape(4, 4)\n",
        "\n",
        "print(a)\n",
        "print(type(a))\n",
        "print()\n",
        "print(b)\n",
        "print(type(b))"
      ],
      "metadata": {
        "colab": {
          "base_uri": "https://localhost:8080/"
        },
        "id": "zwZjCVZmJLeH",
        "outputId": "67993744-1895-4272-f6ca-88ec0471dc68"
      },
      "execution_count": 28,
      "outputs": [
        {
          "output_type": "stream",
          "name": "stdout",
          "text": [
            "[[ 0  1  2  3]\n",
            " [ 4  5  6  7]\n",
            " [ 8  9 10 11]\n",
            " [12 13 14 15]]\n",
            "<class 'numpy.ndarray'>\n",
            "\n",
            "[[16 15 14 13]\n",
            " [12 11 10  9]\n",
            " [ 8  7  6  5]\n",
            " [ 4  3  2  1]]\n",
            "<class 'numpy.ndarray'>\n"
          ]
        }
      ]
    },
    {
      "cell_type": "code",
      "source": [
        "# numpy addition\n",
        "c_np = a + b\n",
        "c_np"
      ],
      "metadata": {
        "colab": {
          "base_uri": "https://localhost:8080/"
        },
        "id": "1raBm409KIxc",
        "outputId": "c0eba63f-007a-442a-d95b-7d0185559f44"
      },
      "execution_count": 29,
      "outputs": [
        {
          "output_type": "execute_result",
          "data": {
            "text/plain": [
              "array([[16, 16, 16, 16],\n",
              "       [16, 16, 16, 16],\n",
              "       [16, 16, 16, 16],\n",
              "       [16, 16, 16, 16]])"
            ]
          },
          "metadata": {},
          "execution_count": 29
        }
      ]
    },
    {
      "cell_type": "markdown",
      "source": [
        "### low-level numpy addition"
      ],
      "metadata": {
        "id": "L25Cc9x6LsDD"
      }
    },
    {
      "cell_type": "code",
      "source": [
        "# low level numpy (w/ loops)\n",
        "def lnumpy_add(a: np.ndarray, b: np.ndarray, c: np.ndarray):\n",
        "    for i in range(4):\n",
        "        for j in range(4):\n",
        "            c[i, j] = a[i, j] + b[i, j]\n",
        "\n",
        "c_np_low = np.empty((4, 4), dtype=np.int64)\n",
        "lnumpy_add(a, b, c_np_low)\n",
        "c_np_low"
      ],
      "metadata": {
        "colab": {
          "base_uri": "https://localhost:8080/"
        },
        "id": "l3eG-8-gKVLu",
        "outputId": "46feff35-bfdb-44ea-c771-e9c01b9420c1"
      },
      "execution_count": 30,
      "outputs": [
        {
          "output_type": "execute_result",
          "data": {
            "text/plain": [
              "array([[16, 16, 16, 16],\n",
              "       [16, 16, 16, 16],\n",
              "       [16, 16, 16, 16],\n",
              "       [16, 16, 16, 16]])"
            ]
          },
          "metadata": {},
          "execution_count": 30
        }
      ]
    },
    {
      "cell_type": "markdown",
      "source": [
        "### Tensor IR addition"
      ],
      "metadata": {
        "id": "RJmzLBvBL1bk"
      }
    },
    {
      "cell_type": "code",
      "source": [
        "# tensor ir\n",
        "@tvm.script.ir_module\n",
        "class MyAdd:\n",
        "    @T.prim_func\n",
        "    def add(A: T.Buffer((4, 4), \"int64\"),\n",
        "            B: T.Buffer((4, 4), \"int64\"),\n",
        "            C: T.Buffer((4, 4), \"int64\")):\n",
        "        T.func_attr({\"global_symbol\": \"add\"})\n",
        "        for i, j in T.grid(4, 4):\n",
        "            with T.block(\"C\"):\n",
        "                vi, vj = T.axis.remap(\"SS\", [i, j])\n",
        "                C[vi, vj] = A[vi, vj] + B[vi, vj]"
      ],
      "metadata": {
        "id": "_JuOWVpJL6s0"
      },
      "execution_count": 31,
      "outputs": []
    },
    {
      "cell_type": "code",
      "source": [
        "# build and run\n",
        "rt_lib = tvm.build(MyAdd, target=\"llvm\")\n",
        "a_tvm = tvm.nd.array(a)\n",
        "b_tvm = tvm.nd.array(b)\n",
        "c_tvm = tvm.nd.empty((4, 4), dtype=\"int64\")\n",
        "\n",
        "rt_lib[\"add\"](a_tvm, b_tvm, c_tvm)\n",
        "np.testing.assert_allclose(c_tvm.numpy(), c_np, rtol=1e-5)\n",
        "c_tvm\n"
      ],
      "metadata": {
        "colab": {
          "base_uri": "https://localhost:8080/"
        },
        "id": "b1YhY5ZxMwtp",
        "outputId": "d96bfdda-2311-44b5-d4ee-e0d9594a20cb"
      },
      "execution_count": 32,
      "outputs": [
        {
          "output_type": "execute_result",
          "data": {
            "text/plain": [
              "<tvm.nd.NDArray shape=(4, 4), cpu(0)>\n",
              "array([[16, 16, 16, 16],\n",
              "       [16, 16, 16, 16],\n",
              "       [16, 16, 16, 16],\n",
              "       [16, 16, 16, 16]])"
            ]
          },
          "metadata": {},
          "execution_count": 32
        }
      ]
    },
    {
      "cell_type": "markdown",
      "source": [
        "## 2. broadcast add"
      ],
      "metadata": {
        "id": "OtVBiK07Nwho"
      }
    },
    {
      "cell_type": "code",
      "source": [
        "a = np.arange(16).reshape(4, 4)\n",
        "b = np.arange(4, 0, -1).reshape(4)\n",
        "\n",
        "print(a)\n",
        "print()\n",
        "print(b)"
      ],
      "metadata": {
        "colab": {
          "base_uri": "https://localhost:8080/"
        },
        "id": "mi7u7A2BN3TR",
        "outputId": "b733af11-c8c7-4e5f-c2ce-db79ac952aa1"
      },
      "execution_count": 33,
      "outputs": [
        {
          "output_type": "stream",
          "name": "stdout",
          "text": [
            "[[ 0  1  2  3]\n",
            " [ 4  5  6  7]\n",
            " [ 8  9 10 11]\n",
            " [12 13 14 15]]\n",
            "\n",
            "[4 3 2 1]\n"
          ]
        }
      ]
    },
    {
      "cell_type": "code",
      "source": [
        "# high level numpy\n",
        "c_np = a + b\n",
        "c_np"
      ],
      "metadata": {
        "colab": {
          "base_uri": "https://localhost:8080/"
        },
        "id": "ZnEaeZc4OLuR",
        "outputId": "a0c1f2d4-6410-4d9a-ae7d-73db84cc71ea"
      },
      "execution_count": 34,
      "outputs": [
        {
          "output_type": "execute_result",
          "data": {
            "text/plain": [
              "array([[ 4,  4,  4,  4],\n",
              "       [ 8,  8,  8,  8],\n",
              "       [12, 12, 12, 12],\n",
              "       [16, 16, 16, 16]])"
            ]
          },
          "metadata": {},
          "execution_count": 34
        }
      ]
    },
    {
      "cell_type": "code",
      "source": [
        "# low level numpy\n",
        "def lnumpy_broadcastAdd(a: np.ndarray, b: np.ndarray, c: np.ndarray):\n",
        "    for i in range(4):\n",
        "        for j in range(4):\n",
        "            c[i, j] = a[i, j] + b[j]\n",
        "\n",
        "c_np_low = np.empty((4, 4), dtype=np.int64)\n",
        "lnumpy_broadcastAdd(a, b, c_np_low)\n",
        "c_np_low"
      ],
      "metadata": {
        "colab": {
          "base_uri": "https://localhost:8080/"
        },
        "id": "4a6q-tITOTjo",
        "outputId": "54980bb6-17b1-4eaf-a0c1-e71819ed38c9"
      },
      "execution_count": 35,
      "outputs": [
        {
          "output_type": "execute_result",
          "data": {
            "text/plain": [
              "array([[ 4,  4,  4,  4],\n",
              "       [ 8,  8,  8,  8],\n",
              "       [12, 12, 12, 12],\n",
              "       [16, 16, 16, 16]])"
            ]
          },
          "metadata": {},
          "execution_count": 35
        }
      ]
    },
    {
      "cell_type": "code",
      "source": [
        "# tensor ir\n",
        "@tvm.script.ir_module\n",
        "class MyBCSTAdd:\n",
        "    @T.prim_func\n",
        "    def bcstadd(A: T.Buffer((4, 4), \"int64\"),\n",
        "                B: T.Buffer((4), \"int64\"),\n",
        "                C: T.Buffer((4, 4), \"int64\")):\n",
        "        T.func_attr({\"global_symbol\": \"bcstadd\"})\n",
        "        for i, j in T.grid(4, 4):\n",
        "            with T.block(\"C\"):\n",
        "                vi, vj = T.axis.remap(\"SS\", [i, j])\n",
        "                C[vi, vj] = A[vi, vj] + B[vj]"
      ],
      "metadata": {
        "id": "t5i11Hr4P7C-"
      },
      "execution_count": 36,
      "outputs": []
    },
    {
      "cell_type": "code",
      "source": [
        "rt_lib = tvm.build(MyBCSTAdd, target=\"llvm\")\n",
        "a_tvm = tvm.nd.array(a)\n",
        "b_tvm = tvm.nd.array(b)\n",
        "c_tvm = tvm.nd.empty((4, 4), dtype=\"int64\")\n",
        "\n",
        "rt_lib[\"bcstadd\"](a_tvm, b_tvm, c_tvm)\n",
        "np.testing.assert_allclose(c_tvm.numpy(), c_np, rtol=1e-5)\n",
        "c_tvm"
      ],
      "metadata": {
        "colab": {
          "base_uri": "https://localhost:8080/"
        },
        "id": "jSx9wHDYRlRa",
        "outputId": "90319e63-ef53-4af6-9692-5e34697b34c6"
      },
      "execution_count": 37,
      "outputs": [
        {
          "output_type": "execute_result",
          "data": {
            "text/plain": [
              "<tvm.nd.NDArray shape=(4, 4), cpu(0)>\n",
              "array([[ 4,  4,  4,  4],\n",
              "       [ 8,  8,  8,  8],\n",
              "       [12, 12, 12, 12],\n",
              "       [16, 16, 16, 16]])"
            ]
          },
          "metadata": {},
          "execution_count": 37
        }
      ]
    },
    {
      "cell_type": "markdown",
      "source": [
        "## 3. 2D convolution"
      ],
      "metadata": {
        "id": "29N0PDEiSIOd"
      }
    },
    {
      "cell_type": "markdown",
      "source": [
        "Here is the mathematical definition of convolution with NCHW layout:\n",
        " \n",
        "C\n",
        "o\n",
        "n\n",
        "v\n",
        "[\n",
        "b\n",
        ",\n",
        "k\n",
        ",\n",
        "i\n",
        ",\n",
        "j\n",
        "]\n",
        "=\n",
        "∑_\n",
        "(d\n",
        "i\n",
        ",\n",
        "d\n",
        "j\n",
        ",\n",
        "q)\n",
        "A\n",
        "[\n",
        "b\n",
        ",\n",
        "q\n",
        ",\n",
        "s\n",
        "t\n",
        "r\n",
        "i\n",
        "d\n",
        "e\n",
        "s\n",
        "∗\n",
        "i\n",
        "+\n",
        "d\n",
        "i\n",
        ",\n",
        "s\n",
        "t\n",
        "r\n",
        "i\n",
        "d\n",
        "e\n",
        "s\n",
        "∗\n",
        "j\n",
        "+\n",
        "d\n",
        "j\n",
        "]\n",
        "∗\n",
        "W\n",
        "[\n",
        "k\n",
        ",\n",
        "q\n",
        ",\n",
        "d\n",
        "i\n",
        ",\n",
        "d\n",
        "j\n",
        "]\n",
        "\n",
        ", where, A is the input tensor, W is the weight tensor, b is the batch index, k is the out channels, i and j are indices for image hight and width, di and dj are the indices of the weight, q is the input channel, and strides is the stride of the filter window."
      ],
      "metadata": {
        "id": "-BZe337WSMdn"
      }
    },
    {
      "cell_type": "code",
      "source": [
        "# string = 1, padding = 0\n",
        "N, CI, H, W, CO, K = 1, 1, 8, 8, 2, 3\n",
        "OUT_H, OUT_W = H - K + 1, W - K + 1\n",
        "data = np.arange(N * CI * H * W).reshape(N, CI, H, W)\n",
        "weight = np.arange(CO * CI * K * K).reshape(CO, CI, K, K)\n",
        "\n",
        "# print(data)\n",
        "# print()\n",
        "# print(weight)"
      ],
      "metadata": {
        "id": "GzaKaf7neYnj"
      },
      "execution_count": 56,
      "outputs": []
    },
    {
      "cell_type": "code",
      "source": [
        "# torch version\n",
        "import torch\n",
        "\n",
        "data_torch = torch.Tensor(data)\n",
        "weight_torch = torch.Tensor(weight)\n",
        "conv_torch = torch.nn.functional.conv2d(data_torch, weight_torch)\n",
        "conv_torch = conv_torch.numpy().astype(np.int64)\n",
        "conv_torch"
      ],
      "metadata": {
        "colab": {
          "base_uri": "https://localhost:8080/"
        },
        "id": "g4SqJ4BLfJCV",
        "outputId": "0f3707ed-c488-483a-f944-973c694fe34b"
      },
      "execution_count": 58,
      "outputs": [
        {
          "output_type": "execute_result",
          "data": {
            "text/plain": [
              "array([[[[ 474,  510,  546,  582,  618,  654],\n",
              "         [ 762,  798,  834,  870,  906,  942],\n",
              "         [1050, 1086, 1122, 1158, 1194, 1230],\n",
              "         [1338, 1374, 1410, 1446, 1482, 1518],\n",
              "         [1626, 1662, 1698, 1734, 1770, 1806],\n",
              "         [1914, 1950, 1986, 2022, 2058, 2094]],\n",
              "\n",
              "        [[1203, 1320, 1437, 1554, 1671, 1788],\n",
              "         [2139, 2256, 2373, 2490, 2607, 2724],\n",
              "         [3075, 3192, 3309, 3426, 3543, 3660],\n",
              "         [4011, 4128, 4245, 4362, 4479, 4596],\n",
              "         [4947, 5064, 5181, 5298, 5415, 5532],\n",
              "         [5883, 6000, 6117, 6234, 6351, 6468]]]])"
            ]
          },
          "metadata": {},
          "execution_count": 58
        }
      ]
    },
    {
      "cell_type": "code",
      "source": [
        "# low level numpy\n",
        "def lnumpy_conv2d(A: np.ndarray, B: np.ndarray, C: np.ndarray):\n",
        "    for b in range(N):\n",
        "        for c_out in range(CO):\n",
        "            for h_out in range(OUT_H):\n",
        "                for w_out in range(OUT_W):\n",
        "                    # compute the output tensor at (b, c_out, h_out, w_out)\n",
        "                    for c_in in range(CI):\n",
        "                        for kh in range(K):\n",
        "                            for kw in range(K):\n",
        "                                h_in = h_out + kh\n",
        "                                w_in = w_out + kw\n",
        "                                C[b, c_out, h_out, w_out] += (\n",
        "                                    A[b, c_in, h_in, w_in] * B[c_out, c_in, kh, kw]\n",
        "                                )\n",
        "\n",
        "conv_lnumpy = np.zeros((N, CO, OUT_H, OUT_W), dtype=np.int64)\n",
        "lnumpy_conv2d(data, weight, conv_lnumpy)\n",
        "conv_lnumpy"
      ],
      "metadata": {
        "colab": {
          "base_uri": "https://localhost:8080/"
        },
        "id": "6faZHxTOkdMi",
        "outputId": "d1ecb2ef-ce49-4e26-9400-825fb8de05b3"
      },
      "execution_count": 62,
      "outputs": [
        {
          "output_type": "execute_result",
          "data": {
            "text/plain": [
              "array([[[[ 474,  510,  546,  582,  618,  654],\n",
              "         [ 762,  798,  834,  870,  906,  942],\n",
              "         [1050, 1086, 1122, 1158, 1194, 1230],\n",
              "         [1338, 1374, 1410, 1446, 1482, 1518],\n",
              "         [1626, 1662, 1698, 1734, 1770, 1806],\n",
              "         [1914, 1950, 1986, 2022, 2058, 2094]],\n",
              "\n",
              "        [[1203, 1320, 1437, 1554, 1671, 1788],\n",
              "         [2139, 2256, 2373, 2490, 2607, 2724],\n",
              "         [3075, 3192, 3309, 3426, 3543, 3660],\n",
              "         [4011, 4128, 4245, 4362, 4479, 4596],\n",
              "         [4947, 5064, 5181, 5298, 5415, 5532],\n",
              "         [5883, 6000, 6117, 6234, 6351, 6468]]]])"
            ]
          },
          "metadata": {},
          "execution_count": 62
        }
      ]
    },
    {
      "cell_type": "code",
      "source": [
        "# tensor ir version\n",
        "@tvm.script.ir_module\n",
        "class MyConv2d:\n",
        "  @T.prim_func\n",
        "  def conv2d(data: T.Buffer((N, CI, H, W), \"int64\"), \n",
        "             weight: T.Buffer((CO, CI, K, K), \"int64\"),\n",
        "             conv: T.Buffer((N, CO, OUT_H, OUT_W), \"int64\")):\n",
        "    T.func_attr({\"global_symbol\": \"conv2d\", \"tir.noalias\": True})\n",
        "    for n, co, ho, wo, ci, hk, hw in T.grid(N, CO, OUT_H, OUT_W, CI, K, K):\n",
        "        with T.block(\"C\"):\n",
        "            b, c_out, h_out, w_out, c_in, kh, kw = T.axis.remap(\"SSSSRRR\", [n, co, ho, wo, ci, hk, hw])\n",
        "            with T.init():\n",
        "                conv[b, c_out, h_out, w_out] = T.int64(0)\n",
        "            h_in = h_out + kh\n",
        "            w_in = w_out + kw\n",
        "            conv[b, c_out, h_out, w_out] += data[b, c_in, h_in, w_in] * weight[c_out, c_in, kh, kw]\n"
      ],
      "metadata": {
        "id": "c-EIjNOIf0mR"
      },
      "execution_count": 63,
      "outputs": []
    },
    {
      "cell_type": "code",
      "source": [
        "rt_lib = tvm.build(MyConv2d, target=\"llvm\")\n",
        "data_tvm = tvm.nd.array(data)\n",
        "weight_tvm = tvm.nd.array(weight)\n",
        "conv_tvm = tvm.nd.array(np.empty((N, CO, OUT_H, OUT_W), dtype=np.int64))\n",
        "rt_lib[\"conv2d\"](data_tvm, weight_tvm, conv_tvm)\n",
        "np.testing.assert_allclose(conv_tvm.numpy(), conv_torch, rtol=1e-5)\n",
        "conv_tvm"
      ],
      "metadata": {
        "colab": {
          "base_uri": "https://localhost:8080/"
        },
        "id": "FoGR9yd2f07V",
        "outputId": "c1d7d9b8-f6b0-46e3-9073-4d71314e6e71"
      },
      "execution_count": 65,
      "outputs": [
        {
          "output_type": "execute_result",
          "data": {
            "text/plain": [
              "<tvm.nd.NDArray shape=(1, 2, 6, 6), cpu(0)>\n",
              "array([[[[ 474,  510,  546,  582,  618,  654],\n",
              "         [ 762,  798,  834,  870,  906,  942],\n",
              "         [1050, 1086, 1122, 1158, 1194, 1230],\n",
              "         [1338, 1374, 1410, 1446, 1482, 1518],\n",
              "         [1626, 1662, 1698, 1734, 1770, 1806],\n",
              "         [1914, 1950, 1986, 2022, 2058, 2094]],\n",
              "\n",
              "        [[1203, 1320, 1437, 1554, 1671, 1788],\n",
              "         [2139, 2256, 2373, 2490, 2607, 2724],\n",
              "         [3075, 3192, 3309, 3426, 3543, 3660],\n",
              "         [4011, 4128, 4245, 4362, 4479, 4596],\n",
              "         [4947, 5064, 5181, 5298, 5415, 5532],\n",
              "         [5883, 6000, 6117, 6234, 6351, 6468]]]])"
            ]
          },
          "metadata": {},
          "execution_count": 65
        }
      ]
    },
    {
      "cell_type": "markdown",
      "source": [
        "# Transform Tensor IR"
      ],
      "metadata": {
        "id": "nZs-f4wuJIKp"
      }
    }
  ]
}