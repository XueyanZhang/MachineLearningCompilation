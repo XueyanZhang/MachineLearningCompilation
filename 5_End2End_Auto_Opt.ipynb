{
  "nbformat": 4,
  "nbformat_minor": 0,
  "metadata": {
    "colab": {
      "provenance": [],
      "authorship_tag": "ABX9TyNNw0XGeh05hWE56ZnNJifv",
      "include_colab_link": true
    },
    "kernelspec": {
      "name": "python3",
      "display_name": "Python 3"
    },
    "language_info": {
      "name": "python"
    }
  },
  "cells": [
    {
      "cell_type": "markdown",
      "metadata": {
        "id": "view-in-github",
        "colab_type": "text"
      },
      "source": [
        "<a href=\"https://colab.research.google.com/github/XueyanZhang/MachineLearningCompilation/blob/master/5_End2End_Auto_Opt.ipynb\" target=\"_parent\"><img src=\"https://colab.research.google.com/assets/colab-badge.svg\" alt=\"Open In Colab\"/></a>"
      ]
    },
    {
      "cell_type": "markdown",
      "source": [
        "# End to End Module Automatic Optimization\n",
        "\n",
        "Put everything we learned so far together.\n",
        "optimize the performance of the MLP example."
      ],
      "metadata": {
        "id": "Y8nbGIUUsmZq"
      }
    },
    {
      "cell_type": "code",
      "source": [
        "!python3 -m  pip install mlc-ai-nightly -f https://mlc.ai/wheels\n",
        "\n",
        "import numpy as np\n",
        "import torch\n",
        "import torchvision\n",
        "import tvm\n",
        "from tvm import relax\n",
        "from tvm.ir.module import IRModule\n",
        "from tvm.script import relax as R\n",
        "from tvm.script import tir as T"
      ],
      "metadata": {
        "colab": {
          "base_uri": "https://localhost:8080/"
        },
        "id": "UhD5qe8rtDbO",
        "outputId": "48d92d85-cbe7-46a9-b4b5-2b4bb739ee0f"
      },
      "execution_count": 2,
      "outputs": [
        {
          "output_type": "stream",
          "name": "stdout",
          "text": [
            "Looking in indexes: https://pypi.org/simple, https://us-python.pkg.dev/colab-wheels/public/simple/\n",
            "Looking in links: https://mlc.ai/wheels\n",
            "Requirement already satisfied: mlc-ai-nightly in /usr/local/lib/python3.10/dist-packages (0.12.dev871+g838ec67e9)\n",
            "Requirement already satisfied: numpy<=1.23 in /usr/local/lib/python3.10/dist-packages (from mlc-ai-nightly) (1.22.4)\n",
            "Requirement already satisfied: cloudpickle in /usr/local/lib/python3.10/dist-packages (from mlc-ai-nightly) (2.2.1)\n",
            "Requirement already satisfied: scipy in /usr/local/lib/python3.10/dist-packages (from mlc-ai-nightly) (1.10.1)\n",
            "Requirement already satisfied: tornado in /usr/local/lib/python3.10/dist-packages (from mlc-ai-nightly) (6.2)\n",
            "Requirement already satisfied: attrs in /usr/local/lib/python3.10/dist-packages (from mlc-ai-nightly) (23.1.0)\n",
            "Requirement already satisfied: psutil in /usr/local/lib/python3.10/dist-packages (from mlc-ai-nightly) (5.9.5)\n",
            "Requirement already satisfied: decorator in /usr/local/lib/python3.10/dist-packages (from mlc-ai-nightly) (4.4.2)\n"
          ]
        }
      ]
    },
    {
      "cell_type": "code",
      "source": [
        "test_data = torchvision.datasets.FashionMNIST(\n",
        "    root='data',\n",
        "    train=False,\n",
        "    download=True,\n",
        "    transform=torchvision.transforms.ToTensor()\n",
        ")\n",
        "test_loader = torch.utils.data.DataLoader(test_data, batch_size=1, shuffle=True)\n",
        "class_names = ['T-shirt/top', 'Trouser', 'Pullover', 'Dress', 'Coat',\n",
        "               'Sandal', 'Shirt', 'Sneaker', 'Bag', 'Ankle boot']\n",
        "\n",
        "img, label = next(iter(test_loader))\n",
        "img = img.reshape(1, 28, 28).numpy()"
      ],
      "metadata": {
        "id": "g9sgQh5NtLY6"
      },
      "execution_count": 7,
      "outputs": []
    },
    {
      "cell_type": "code",
      "source": [
        "import matplotlib.pyplot as plt\n",
        "\n",
        "plt.figure()\n",
        "plt.imshow(img[0])\n",
        "plt.colorbar()\n",
        "plt.grid(False)\n",
        "plt.show()\n",
        "\n",
        "print(f\"class is {class_names[label[0]]}\")"
      ],
      "metadata": {
        "colab": {
          "base_uri": "https://localhost:8080/",
          "height": 452
        },
        "id": "3QPccQTnuDqW",
        "outputId": "c213d5b0-0da5-419f-bf35-df9bbce857cc"
      },
      "execution_count": 8,
      "outputs": [
        {
          "output_type": "display_data",
          "data": {
            "text/plain": [
              "<Figure size 640x480 with 2 Axes>"
            ],
            "image/png": "[encoded data removed]"
          },
          "metadata": {}
        },
        {
          "output_type": "stream",
          "name": "stdout",
          "text": [
            "class is Bag\n"
          ]
        }
      ]
    },
    {
      "cell_type": "code",
      "source": [
        "# download pre-packed (trained) parameters\n",
        "# Hide outputs\n",
        "!wget -nc https://github.com/mlc-ai/web-data/raw/main/models/fasionmnist_mlp_params.pkl"
      ],
      "metadata": {
        "colab": {
          "base_uri": "https://localhost:8080/"
        },
        "id": "_fjF385RvMlM",
        "outputId": "1946a326-678b-49f5-b2a2-c6374d7bd182"
      },
      "execution_count": 9,
      "outputs": [
        {
          "output_type": "stream",
          "name": "stdout",
          "text": [
            "--2023-05-06 15:45:15--  https://github.com/mlc-ai/web-data/raw/main/models/fasionmnist_mlp_params.pkl\n",
            "Resolving github.com (github.com)... 140.82.112.3\n",
            "Connecting to github.com (github.com)|140.82.112.3|:443... connected.\n",
            "HTTP request sent, awaiting response... 302 Found\n",
            "Location: https://raw.githubusercontent.com/mlc-ai/web-data/main/models/fasionmnist_mlp_params.pkl [following]\n",
            "--2023-05-06 15:45:16--  https://raw.githubusercontent.com/mlc-ai/web-data/main/models/fasionmnist_mlp_params.pkl\n",
            "Resolving raw.githubusercontent.com (raw.githubusercontent.com)... 185.199.108.133, 185.199.109.133, 185.199.110.133, ...\n",
            "Connecting to raw.githubusercontent.com (raw.githubusercontent.com)|185.199.108.133|:443... connected.\n",
            "HTTP request sent, awaiting response... 200 OK\n",
            "Length: 407396 (398K) [application/octet-stream]\n",
            "Saving to: ‘fasionmnist_mlp_params.pkl’\n",
            "\n",
            "fasionmnist_mlp_par 100%[===================>] 397.85K  --.-KB/s    in 0.02s   \n",
            "\n",
            "2023-05-06 15:45:16 (19.0 MB/s) - ‘fasionmnist_mlp_params.pkl’ saved [407396/407396]\n",
            "\n"
          ]
        }
      ]
    },
    {
      "cell_type": "code",
      "source": [
        "import pickle as pkl\n",
        "\n",
        "mlp_params = pkl.load(open(\"fasionmnist_mlp_params.pkl\", \"rb\"))\n",
        "nd_params = {k: tvm.nd.array(v) for k, v in mlp_params.items()}\n",
        "\n",
        "# image input to network\n",
        "data_nd = tvm.nd.array(img.reshape(1, 784))"
      ],
      "metadata": {
        "id": "vzoRDaQ3vTIe"
      },
      "execution_count": 10,
      "outputs": []
    },
    {
      "cell_type": "code",
      "source": [
        "from tvm.script.ir_builder.relax.ir import dtype\n",
        "# use mixture module (1 TensorIR + 2 Torch func)\n",
        "f32 = \"float32\"\n",
        "@tvm.script.ir_module\n",
        "class MyModuleMixture:\n",
        "    @T.prim_func\n",
        "    def linear0(X: T.Buffer((1, 784), f32),\n",
        "                W: T.Buffer((128, 784), f32),\n",
        "                B: T.Buffer((128), f32),\n",
        "                Z: T.Buffer((1, 128), f32)):\n",
        "        T.func_attr({\"global_symbol\": \"linear0\", \"tir.noalias\": True})\n",
        "        Y = T.alloc_buffer((1, 128), f32)\n",
        "        for i, j, k in T.grid(1, 128, 784):\n",
        "            with T.block(\"Y\"):\n",
        "                vi, vj, vk = T.axis.remap(\"SSR\", [i, j, k])\n",
        "                with T.init():\n",
        "                    Y[vi, vj] = T.float32(0)\n",
        "                Y[vi, vj] = Y[vi, vj] + X[vi, vk] * W[vj, vk]\n",
        "        \n",
        "        for i, j in T.grid(1, 128):\n",
        "            with T.block(\"Z\"):\n",
        "                vi, vj = T.axis.remap(\"SS\", [i, j])\n",
        "                Z[vi, vj] = Y[vi, vj] + B[vj]\n",
        "\n",
        "    @R.function\n",
        "    def main(x: R.Tensor((1, 784), f32),\n",
        "             w0: R.Tensor((128, 784), f32),\n",
        "             b0: R.Tensor((128, ), f32),\n",
        "             w1: R.Tensor((10, 128), f32),\n",
        "             b1: R.Tensor((10,), f32)):\n",
        "        with R.dataflow():\n",
        "            lv0 = R.call_dps_packed(\"linear0\", (x, w0, b0), R.Tensor((1, 128), dtype=f32))\n",
        "            lv1 = R.call_dps_packed(\"env.relu\", (lv0, ), R.Tensor((1, 128), dtype=f32))\n",
        "            out = R.call_dps_packed(\"env.linear\", (lv1, w1, b1), R.Tensor((1, 10), dtype=f32))\n",
        "            R.output(out)\n",
        "        return out\n",
        "\n",
        "# register external torch funcs\n",
        "@tvm.register_func(\"env.linear\", override=True)\n",
        "def torch_linear(x: tvm.nd.NDArray,\n",
        "                 w: tvm.nd.NDArray,\n",
        "                 b: tvm.nd.NDArray,\n",
        "                 z: tvm.nd.NDArray):\n",
        "    x_torch = torch.from_dlpack(x)\n",
        "    w_torch = torch.from_dlpack(w)\n",
        "    b_torch = torch.from_dlpack(b)\n",
        "    z_torch = torch.from_dlpack(z)\n",
        "    torch.mm(x_torch, w_torch, out=z_torch)\n",
        "    torch.add(z_torch, b_torch, out=z_torch)\n",
        "\n",
        "@tvm.register_func(\"env.relu\", override=True)\n",
        "def torch_relu(x: tvm.nd.NDArray,\n",
        "               out: tvm.nd.NDArray):\n",
        "    x_torch = torch.from_dlpack(x)\n",
        "    out_torch = torch.from_dlpack(out)\n",
        "    torch.maximum(x_torch, torch.Tensor([0.0]), out=out_torch)"
      ],
      "metadata": {
        "id": "1gKD4OOkv7YN"
      },
      "execution_count": 12,
      "outputs": []
    }
  ]
}